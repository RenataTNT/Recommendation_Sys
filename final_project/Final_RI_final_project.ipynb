{
 "cells": [
  {
   "cell_type": "markdown",
   "metadata": {},
   "source": [
    "# Двухуровневая модель рекомендаций\n"
   ]
  },
  {
   "cell_type": "code",
   "execution_count": 1,
   "metadata": {},
   "outputs": [],
   "source": [
    "import pandas as pd\n",
    "import numpy as np\n",
    "import matplotlib.pyplot as plt\n",
    "%matplotlib inline\n",
    "\n",
    "# Для работы с матрицами\n",
    "from scipy.sparse import csr_matrix\n",
    "\n",
    "# Матричная факторизация\n",
    "from implicit import als\n",
    "\n",
    "# Модель второго уровня\n",
    "import lightgbm\n",
    "from lightgbm import LGBMClassifier\n",
    "\n",
    "import os, sys\n",
    "module_path = os.path.abspath(os.path.join(os.pardir))\n",
    "if module_path not in sys.path:\n",
    "    sys.path.append(module_path)\n",
    "\n",
    "# Написанные нами функции\n",
    "from src.metrics import precision_at_k, recall_at_k\n",
    "from src.utils import prefilter_items\n",
    "from src.recommenders import MainRecommender"
   ]
  },
  {
   "cell_type": "code",
   "execution_count": 2,
   "metadata": {},
   "outputs": [],
   "source": [
    "%load_ext autoreload"
   ]
  },
  {
   "cell_type": "code",
   "execution_count": 3,
   "metadata": {},
   "outputs": [
    {
     "data": {
      "text/html": [
       "<div>\n",
       "<style scoped>\n",
       "    .dataframe tbody tr th:only-of-type {\n",
       "        vertical-align: middle;\n",
       "    }\n",
       "\n",
       "    .dataframe tbody tr th {\n",
       "        vertical-align: top;\n",
       "    }\n",
       "\n",
       "    .dataframe thead th {\n",
       "        text-align: right;\n",
       "    }\n",
       "</style>\n",
       "<table border=\"1\" class=\"dataframe\">\n",
       "  <thead>\n",
       "    <tr style=\"text-align: right;\">\n",
       "      <th></th>\n",
       "      <th>user_id</th>\n",
       "      <th>basket_id</th>\n",
       "      <th>day</th>\n",
       "      <th>item_id</th>\n",
       "      <th>quantity</th>\n",
       "      <th>sales_value</th>\n",
       "      <th>store_id</th>\n",
       "      <th>retail_disc</th>\n",
       "      <th>trans_time</th>\n",
       "      <th>week_no</th>\n",
       "      <th>coupon_disc</th>\n",
       "      <th>coupon_match_disc</th>\n",
       "    </tr>\n",
       "  </thead>\n",
       "  <tbody>\n",
       "    <tr>\n",
       "      <th>2025344</th>\n",
       "      <td>546</td>\n",
       "      <td>40374217632</td>\n",
       "      <td>572</td>\n",
       "      <td>9337142</td>\n",
       "      <td>2</td>\n",
       "      <td>2.30</td>\n",
       "      <td>327</td>\n",
       "      <td>0.00</td>\n",
       "      <td>1931</td>\n",
       "      <td>82</td>\n",
       "      <td>0.0</td>\n",
       "      <td>0.0</td>\n",
       "    </tr>\n",
       "    <tr>\n",
       "      <th>2025345</th>\n",
       "      <td>546</td>\n",
       "      <td>40374217632</td>\n",
       "      <td>572</td>\n",
       "      <td>9526666</td>\n",
       "      <td>1</td>\n",
       "      <td>0.88</td>\n",
       "      <td>327</td>\n",
       "      <td>-0.12</td>\n",
       "      <td>1931</td>\n",
       "      <td>82</td>\n",
       "      <td>0.0</td>\n",
       "      <td>0.0</td>\n",
       "    </tr>\n",
       "  </tbody>\n",
       "</table>\n",
       "</div>"
      ],
      "text/plain": [
       "         user_id    basket_id  day  item_id  quantity  sales_value  store_id  \\\n",
       "2025344      546  40374217632  572  9337142         2         2.30       327   \n",
       "2025345      546  40374217632  572  9526666         1         0.88       327   \n",
       "\n",
       "         retail_disc  trans_time  week_no  coupon_disc  coupon_match_disc  \n",
       "2025344         0.00        1931       82          0.0                0.0  \n",
       "2025345        -0.12        1931       82          0.0                0.0  "
      ]
     },
     "execution_count": 3,
     "metadata": {},
     "output_type": "execute_result"
    }
   ],
   "source": [
    "data = pd.read_csv('retail_train.csv')\n",
    "item_features = pd.read_csv('product.csv')\n",
    "user_features = pd.read_csv('hh_demographic.csv')\n",
    "\n",
    "# column processing\n",
    "item_features.columns = [col.lower() for col in item_features.columns]\n",
    "user_features.columns = [col.lower() for col in user_features.columns]\n",
    "\n",
    "item_features.rename(columns={'product_id': 'item_id'}, inplace=True)\n",
    "user_features.rename(columns={'household_key': 'user_id'}, inplace=True)\n",
    "\n",
    "\n",
    "# Важна схема обучения и валидации!\n",
    "# -- давние покупки -- | -- 12 недель -- | -- 3 недели (отложенный тест) -- \n",
    "\n",
    "val_lvl_1_size_weeks = 12\n",
    "val_lvl_2_size_weeks = 0\n",
    "\n",
    "data_train_lvl_1 = data[data['week_no'] < data['week_no'].max() - (val_lvl_1_size_weeks + val_lvl_2_size_weeks)]\n",
    "data_val_lvl_1 = data[(data['week_no'] >= data['week_no'].max() - (val_lvl_1_size_weeks + val_lvl_2_size_weeks)) &\n",
    "                      (data['week_no'] < data['week_no'].max() - (val_lvl_2_size_weeks))]\n",
    "\n",
    "data_train_lvl_2 = data_val_lvl_1.copy()  # Для наглядности. Далее мы добавим изменения, и они будут отличаться\n",
    "# data_val_lvl_2 = data[data['week_no'] >= data['week_no'].max() - val_lvl_2_size_weeks]\n",
    "\n",
    "data_train_lvl_1.tail(2)"
   ]
  },
  {
   "cell_type": "code",
   "execution_count": 4,
   "metadata": {},
   "outputs": [],
   "source": [
    "test1_data = pd.read_csv('retail_test1.csv')"
   ]
  },
  {
   "cell_type": "code",
   "execution_count": 5,
   "metadata": {},
   "outputs": [
    {
     "name": "stdout",
     "output_type": "stream",
     "text": [
      "Decreased # items from 82059 to 7001\n"
     ]
    }
   ],
   "source": [
    "%autoreload\n",
    "from src.utils import prefilter_items\n",
    "\n",
    "n_items_before = data_train_lvl_1['item_id'].nunique()\n",
    "\n",
    "data_train_lvl_1 = prefilter_items(data_train_lvl_1, item_features=item_features, take_n_popular=7000)\n",
    "\n",
    "n_items_after = data_train_lvl_1['item_id'].nunique()\n",
    "print('Decreased # items from {} to {}'.format(n_items_before, n_items_after))"
   ]
  },
  {
   "cell_type": "code",
   "execution_count": 6,
   "metadata": {},
   "outputs": [],
   "source": [
    "%autoreload\n",
    "from src.metrics import precision_at_k, recall_at_k\n",
    "#from src.utils import prefilter_items\n",
    "from src.recommenders import MainRecommender"
   ]
  },
  {
   "cell_type": "code",
   "execution_count": 7,
   "metadata": {},
   "outputs": [
    {
     "name": "stderr",
     "output_type": "stream",
     "text": [
      "WARNING:root:Intel MKL BLAS detected. Its highly recommend to set the environment variable 'export MKL_NUM_THREADS=1' to disable its internal multithreading\n",
      "100%|██████████| 15.0/15 [00:05<00:00,  2.74it/s, loss=0.035] \n",
      "100%|██████████| 7001/7001 [00:00<00:00, 15252.09it/s]\n"
     ]
    }
   ],
   "source": [
    "recommender = MainRecommender(data_train_lvl_1)"
   ]
  },
  {
   "cell_type": "markdown",
   "metadata": {},
   "source": [
    "### Сгенерируем кандидатов на 1ом уровне\n"
   ]
  },
  {
   "cell_type": "code",
   "execution_count": 8,
   "metadata": {},
   "outputs": [
    {
     "data": {
      "text/html": [
       "<div>\n",
       "<style scoped>\n",
       "    .dataframe tbody tr th:only-of-type {\n",
       "        vertical-align: middle;\n",
       "    }\n",
       "\n",
       "    .dataframe tbody tr th {\n",
       "        vertical-align: top;\n",
       "    }\n",
       "\n",
       "    .dataframe thead th {\n",
       "        text-align: right;\n",
       "    }\n",
       "</style>\n",
       "<table border=\"1\" class=\"dataframe\">\n",
       "  <thead>\n",
       "    <tr style=\"text-align: right;\">\n",
       "      <th></th>\n",
       "      <th>user_id</th>\n",
       "      <th>actual_items</th>\n",
       "    </tr>\n",
       "  </thead>\n",
       "  <tbody>\n",
       "    <tr>\n",
       "      <th>0</th>\n",
       "      <td>1</td>\n",
       "      <td>[836548, 856942, 877391, 933913, 948420, 10368...</td>\n",
       "    </tr>\n",
       "    <tr>\n",
       "      <th>1</th>\n",
       "      <td>2</td>\n",
       "      <td>[831125, 838136, 852864, 899624, 908649, 91504...</td>\n",
       "    </tr>\n",
       "  </tbody>\n",
       "</table>\n",
       "</div>"
      ],
      "text/plain": [
       "   user_id                                       actual_items\n",
       "0        1  [836548, 856942, 877391, 933913, 948420, 10368...\n",
       "1        2  [831125, 838136, 852864, 899624, 908649, 91504..."
      ]
     },
     "execution_count": 8,
     "metadata": {},
     "output_type": "execute_result"
    }
   ],
   "source": [
    "actual_items_lvl_2=data_train_lvl_2[['user_id', 'item_id']]\n",
    "actual_items_lvl_2=actual_items_lvl_2.groupby('user_id')['item_id'].unique().reset_index()\n",
    "actual_items_lvl_2.rename(columns={'item_id': 'actual_items'}, inplace=True)\n",
    "actual_items_lvl_2.head(2)"
   ]
  },
  {
   "cell_type": "code",
   "execution_count": 9,
   "metadata": {},
   "outputs": [],
   "source": [
    "users_lvl_2 = pd.DataFrame(data_train_lvl_2['user_id'].unique())\n",
    "users_lvl_2.columns = ['user_id']\n",
    "\n",
    "\n",
    "train_users = data_train_lvl_1['user_id'].unique()\n",
    "#users_lvl_2 = users_lvl_2[users_lvl_2['user_id'].isin(train_users)]"
   ]
  },
  {
   "cell_type": "code",
   "execution_count": 10,
   "metadata": {},
   "outputs": [
    {
     "data": {
      "text/plain": [
       "user_id    3\n",
       "dtype: int64"
      ]
     },
     "execution_count": 10,
     "metadata": {},
     "output_type": "execute_result"
    }
   ],
   "source": [
    "users_lvl_2[~users_lvl_2['user_id'].isin(train_users)].count()"
   ]
  },
  {
   "cell_type": "code",
   "execution_count": 11,
   "metadata": {},
   "outputs": [
    {
     "name": "stdout",
     "output_type": "stream",
     "text": [
      "Качество recall_at_k для k= 700 равно: 0.19599445844801025\n"
     ]
    }
   ],
   "source": [
    "recall_list=[]\n",
    "recall_at_k_list=[]\n",
    "\n",
    "#K=[20, 50, 100, 200, 500]\n",
    "K=[700]\n",
    "\n",
    "for k in K:\n",
    "    users_lvl_2_final=users_lvl_2.copy()\n",
    "    users_lvl_2_final['candidates'] = users_lvl_2_final['user_id'].apply(lambda x: recommender.get_own_recommendations(x, N=k))\n",
    "    act_and_rec_df_lvl_2=actual_items_lvl_2.merge(users_lvl_2_final, on='user_id', how='left')\n",
    "    act_and_rec_df_lvl_2.head(2)\n",
    "\n",
    "    for i in range(len(act_and_rec_df_lvl_2['user_id'])):\n",
    "        recall_list.append(recall_at_k(act_and_rec_df_lvl_2['candidates'][i], act_and_rec_df_lvl_2['actual_items'][i], k=k))\n",
    "    mean_recall_at_k_1st=np.mean(recall_list)\n",
    "    print(\"Качество recall_at_k для k=\",k, 'равно:',mean_recall_at_k_1st)\n",
    "    recall_at_k_list.append(mean_recall_at_k_1st)\n"
   ]
  },
  {
   "cell_type": "code",
   "execution_count": 12,
   "metadata": {},
   "outputs": [],
   "source": [
    "first_level_candidates=users_lvl_2_final"
   ]
  },
  {
   "cell_type": "code",
   "execution_count": 13,
   "metadata": {},
   "outputs": [
    {
     "data": {
      "text/html": [
       "<div>\n",
       "<style scoped>\n",
       "    .dataframe tbody tr th:only-of-type {\n",
       "        vertical-align: middle;\n",
       "    }\n",
       "\n",
       "    .dataframe tbody tr th {\n",
       "        vertical-align: top;\n",
       "    }\n",
       "\n",
       "    .dataframe thead th {\n",
       "        text-align: right;\n",
       "    }\n",
       "</style>\n",
       "<table border=\"1\" class=\"dataframe\">\n",
       "  <thead>\n",
       "    <tr style=\"text-align: right;\">\n",
       "      <th></th>\n",
       "      <th>user_id</th>\n",
       "      <th>candidates</th>\n",
       "    </tr>\n",
       "  </thead>\n",
       "  <tbody>\n",
       "    <tr>\n",
       "      <th>0</th>\n",
       "      <td>790</td>\n",
       "      <td>[9297055, 9297310, 9297032, 7410320, 1100273, ...</td>\n",
       "    </tr>\n",
       "    <tr>\n",
       "      <th>1</th>\n",
       "      <td>1795</td>\n",
       "      <td>[9655482, 990297, 8181555, 1060318, 835247, 12...</td>\n",
       "    </tr>\n",
       "    <tr>\n",
       "      <th>2</th>\n",
       "      <td>2244</td>\n",
       "      <td>[1108131, 1083787, 7142552, 9297106, 12452939,...</td>\n",
       "    </tr>\n",
       "    <tr>\n",
       "      <th>3</th>\n",
       "      <td>84</td>\n",
       "      <td>[903529, 868131, 987518, 829722, 953464, 90106...</td>\n",
       "    </tr>\n",
       "    <tr>\n",
       "      <th>4</th>\n",
       "      <td>1116</td>\n",
       "      <td>[8118618, 851241, 820612, 853210, 1084342, 106...</td>\n",
       "    </tr>\n",
       "  </tbody>\n",
       "</table>\n",
       "</div>"
      ],
      "text/plain": [
       "   user_id                                         candidates\n",
       "0      790  [9297055, 9297310, 9297032, 7410320, 1100273, ...\n",
       "1     1795  [9655482, 990297, 8181555, 1060318, 835247, 12...\n",
       "2     2244  [1108131, 1083787, 7142552, 9297106, 12452939,...\n",
       "3       84  [903529, 868131, 987518, 829722, 953464, 90106...\n",
       "4     1116  [8118618, 851241, 820612, 853210, 1084342, 106..."
      ]
     },
     "execution_count": 13,
     "metadata": {},
     "output_type": "execute_result"
    }
   ],
   "source": [
    "first_level_candidates.head()"
   ]
  },
  {
   "cell_type": "code",
   "execution_count": 14,
   "metadata": {},
   "outputs": [],
   "source": [
    "s = users_lvl_2_final.apply(lambda x: pd.Series(x['candidates']), axis=1).stack().reset_index(level=1, drop=True)\n",
    "s.name = 'item_id'"
   ]
  },
  {
   "cell_type": "code",
   "execution_count": 15,
   "metadata": {},
   "outputs": [],
   "source": [
    "users_lvl_2_final = users_lvl_2_final.drop('candidates', axis=1).join(s)\n",
    "users_lvl_2_final['flag'] = 1"
   ]
  },
  {
   "cell_type": "code",
   "execution_count": 16,
   "metadata": {},
   "outputs": [
    {
     "data": {
      "text/html": [
       "<div>\n",
       "<style scoped>\n",
       "    .dataframe tbody tr th:only-of-type {\n",
       "        vertical-align: middle;\n",
       "    }\n",
       "\n",
       "    .dataframe tbody tr th {\n",
       "        vertical-align: top;\n",
       "    }\n",
       "\n",
       "    .dataframe thead th {\n",
       "        text-align: right;\n",
       "    }\n",
       "</style>\n",
       "<table border=\"1\" class=\"dataframe\">\n",
       "  <thead>\n",
       "    <tr style=\"text-align: right;\">\n",
       "      <th></th>\n",
       "      <th>user_id</th>\n",
       "      <th>item_id</th>\n",
       "      <th>flag</th>\n",
       "    </tr>\n",
       "  </thead>\n",
       "  <tbody>\n",
       "    <tr>\n",
       "      <th>0</th>\n",
       "      <td>790</td>\n",
       "      <td>9297055</td>\n",
       "      <td>1</td>\n",
       "    </tr>\n",
       "    <tr>\n",
       "      <th>0</th>\n",
       "      <td>790</td>\n",
       "      <td>9297310</td>\n",
       "      <td>1</td>\n",
       "    </tr>\n",
       "  </tbody>\n",
       "</table>\n",
       "</div>"
      ],
      "text/plain": [
       "   user_id  item_id  flag\n",
       "0      790  9297055     1\n",
       "0      790  9297310     1"
      ]
     },
     "execution_count": 16,
     "metadata": {},
     "output_type": "execute_result"
    }
   ],
   "source": [
    "users_lvl_2_final.head(2)"
   ]
  },
  {
   "cell_type": "code",
   "execution_count": 17,
   "metadata": {},
   "outputs": [
    {
     "data": {
      "text/plain": [
       "1621200"
      ]
     },
     "execution_count": 17,
     "metadata": {},
     "output_type": "execute_result"
    }
   ],
   "source": [
    "users_lvl_2_final.shape[0]"
   ]
  },
  {
   "cell_type": "code",
   "execution_count": 18,
   "metadata": {},
   "outputs": [
    {
     "data": {
      "text/plain": [
       "2316"
      ]
     },
     "execution_count": 18,
     "metadata": {},
     "output_type": "execute_result"
    }
   ],
   "source": [
    "users_lvl_2_final['user_id'].nunique()"
   ]
  },
  {
   "cell_type": "markdown",
   "metadata": {},
   "source": [
    "### Обучим модель 2-ого уровня"
   ]
  },
  {
   "cell_type": "code",
   "execution_count": 19,
   "metadata": {},
   "outputs": [
    {
     "data": {
      "text/html": [
       "<div>\n",
       "<style scoped>\n",
       "    .dataframe tbody tr th:only-of-type {\n",
       "        vertical-align: middle;\n",
       "    }\n",
       "\n",
       "    .dataframe tbody tr th {\n",
       "        vertical-align: top;\n",
       "    }\n",
       "\n",
       "    .dataframe thead th {\n",
       "        text-align: right;\n",
       "    }\n",
       "</style>\n",
       "<table border=\"1\" class=\"dataframe\">\n",
       "  <thead>\n",
       "    <tr style=\"text-align: right;\">\n",
       "      <th></th>\n",
       "      <th>user_id</th>\n",
       "      <th>basket_id</th>\n",
       "      <th>day</th>\n",
       "      <th>item_id</th>\n",
       "      <th>quantity</th>\n",
       "      <th>sales_value</th>\n",
       "      <th>store_id</th>\n",
       "      <th>retail_disc</th>\n",
       "      <th>trans_time</th>\n",
       "      <th>week_no</th>\n",
       "      <th>coupon_disc</th>\n",
       "      <th>coupon_match_disc</th>\n",
       "    </tr>\n",
       "  </thead>\n",
       "  <tbody>\n",
       "    <tr>\n",
       "      <th>2371167</th>\n",
       "      <td>729</td>\n",
       "      <td>41575825884</td>\n",
       "      <td>656</td>\n",
       "      <td>1734846</td>\n",
       "      <td>1</td>\n",
       "      <td>1.88</td>\n",
       "      <td>707</td>\n",
       "      <td>-1.70</td>\n",
       "      <td>1358</td>\n",
       "      <td>94</td>\n",
       "      <td>0.0</td>\n",
       "      <td>0.0</td>\n",
       "    </tr>\n",
       "    <tr>\n",
       "      <th>2371168</th>\n",
       "      <td>729</td>\n",
       "      <td>41575825884</td>\n",
       "      <td>656</td>\n",
       "      <td>8355433</td>\n",
       "      <td>1</td>\n",
       "      <td>2.47</td>\n",
       "      <td>707</td>\n",
       "      <td>-2.47</td>\n",
       "      <td>1358</td>\n",
       "      <td>94</td>\n",
       "      <td>0.0</td>\n",
       "      <td>0.0</td>\n",
       "    </tr>\n",
       "  </tbody>\n",
       "</table>\n",
       "</div>"
      ],
      "text/plain": [
       "         user_id    basket_id  day  item_id  quantity  sales_value  store_id  \\\n",
       "2371167      729  41575825884  656  1734846         1         1.88       707   \n",
       "2371168      729  41575825884  656  8355433         1         2.47       707   \n",
       "\n",
       "         retail_disc  trans_time  week_no  coupon_disc  coupon_match_disc  \n",
       "2371167        -1.70        1358       94          0.0                0.0  \n",
       "2371168        -2.47        1358       94          0.0                0.0  "
      ]
     },
     "execution_count": 19,
     "metadata": {},
     "output_type": "execute_result"
    }
   ],
   "source": [
    "data_train_lvl_2.tail(2)"
   ]
  },
  {
   "cell_type": "code",
   "execution_count": 20,
   "metadata": {},
   "outputs": [],
   "source": [
    "%autoreload\n",
    "import src.prepare_dataset as prepare_dataset"
   ]
  },
  {
   "cell_type": "code",
   "execution_count": 21,
   "metadata": {},
   "outputs": [],
   "source": [
    "data_train_lvl_2=prepare_dataset.add_user_items_features(data_train_lvl_2, item_features, user_features)"
   ]
  },
  {
   "cell_type": "code",
   "execution_count": 22,
   "metadata": {},
   "outputs": [],
   "source": [
    "user_average_bill=prepare_dataset.user_average_bill(data_train_lvl_2) \n",
    "overall_average_bill=prepare_dataset.overall_average_bill(user_average_bill) \n",
    "user_item_quantity=prepare_dataset.user_item_quantity(data_train_lvl_2) \n",
    "overall_average_item_quantity=prepare_dataset.overall_average_item_quantity(user_item_quantity)\n",
    "user_item_frequency=prepare_dataset.user_item_frequency(data_train_lvl_2) \n",
    "overall_item_frequency=prepare_dataset.overall_item_frequency(user_item_frequency) \n",
    "user_total_quantity=prepare_dataset.user_total_quantity(data_train_lvl_2) \n",
    "avr_total_quantity=prepare_dataset.avr_total_quantity(user_total_quantity) \n",
    "user_comodity_popularity=prepare_dataset.user_comodity_popularity(data_train_lvl_2)\n",
    "overall_comodity_popularity=prepare_dataset.overall_comodity_popularity(user_comodity_popularity)\n",
    "hh_comp_comodity_popularity=prepare_dataset.hh_comp_comodity_popularity(data_train_lvl_2)"
   ]
  },
  {
   "cell_type": "code",
   "execution_count": 23,
   "metadata": {},
   "outputs": [
    {
     "data": {
      "text/html": [
       "<div>\n",
       "<style scoped>\n",
       "    .dataframe tbody tr th:only-of-type {\n",
       "        vertical-align: middle;\n",
       "    }\n",
       "\n",
       "    .dataframe tbody tr th {\n",
       "        vertical-align: top;\n",
       "    }\n",
       "\n",
       "    .dataframe thead th {\n",
       "        text-align: right;\n",
       "    }\n",
       "</style>\n",
       "<table border=\"1\" class=\"dataframe\">\n",
       "  <thead>\n",
       "    <tr style=\"text-align: right;\">\n",
       "      <th></th>\n",
       "      <th>item_id</th>\n",
       "      <th>manufacturer</th>\n",
       "      <th>department</th>\n",
       "      <th>brand</th>\n",
       "      <th>commodity_desc</th>\n",
       "      <th>sub_commodity_desc</th>\n",
       "      <th>curr_size_of_product</th>\n",
       "    </tr>\n",
       "  </thead>\n",
       "  <tbody>\n",
       "    <tr>\n",
       "      <th>0</th>\n",
       "      <td>25671</td>\n",
       "      <td>2</td>\n",
       "      <td>GROCERY</td>\n",
       "      <td>National</td>\n",
       "      <td>FRZN ICE</td>\n",
       "      <td>ICE - CRUSHED/CUBED</td>\n",
       "      <td>22 LB</td>\n",
       "    </tr>\n",
       "    <tr>\n",
       "      <th>1</th>\n",
       "      <td>26081</td>\n",
       "      <td>2</td>\n",
       "      <td>MISC. TRANS.</td>\n",
       "      <td>National</td>\n",
       "      <td>NO COMMODITY DESCRIPTION</td>\n",
       "      <td>NO SUBCOMMODITY DESCRIPTION</td>\n",
       "      <td></td>\n",
       "    </tr>\n",
       "  </tbody>\n",
       "</table>\n",
       "</div>"
      ],
      "text/plain": [
       "   item_id  manufacturer    department     brand            commodity_desc  \\\n",
       "0    25671             2       GROCERY  National                  FRZN ICE   \n",
       "1    26081             2  MISC. TRANS.  National  NO COMMODITY DESCRIPTION   \n",
       "\n",
       "            sub_commodity_desc curr_size_of_product  \n",
       "0          ICE - CRUSHED/CUBED                22 LB  \n",
       "1  NO SUBCOMMODITY DESCRIPTION                       "
      ]
     },
     "execution_count": 23,
     "metadata": {},
     "output_type": "execute_result"
    }
   ],
   "source": [
    "item_features.head(2)"
   ]
  },
  {
   "cell_type": "code",
   "execution_count": 24,
   "metadata": {},
   "outputs": [
    {
     "data": {
      "text/html": [
       "<div>\n",
       "<style scoped>\n",
       "    .dataframe tbody tr th:only-of-type {\n",
       "        vertical-align: middle;\n",
       "    }\n",
       "\n",
       "    .dataframe tbody tr th {\n",
       "        vertical-align: top;\n",
       "    }\n",
       "\n",
       "    .dataframe thead th {\n",
       "        text-align: right;\n",
       "    }\n",
       "</style>\n",
       "<table border=\"1\" class=\"dataframe\">\n",
       "  <thead>\n",
       "    <tr style=\"text-align: right;\">\n",
       "      <th></th>\n",
       "      <th>age_desc</th>\n",
       "      <th>marital_status_code</th>\n",
       "      <th>income_desc</th>\n",
       "      <th>homeowner_desc</th>\n",
       "      <th>hh_comp_desc</th>\n",
       "      <th>household_size_desc</th>\n",
       "      <th>kid_category_desc</th>\n",
       "      <th>user_id</th>\n",
       "    </tr>\n",
       "  </thead>\n",
       "  <tbody>\n",
       "    <tr>\n",
       "      <th>0</th>\n",
       "      <td>65+</td>\n",
       "      <td>A</td>\n",
       "      <td>35-49K</td>\n",
       "      <td>Homeowner</td>\n",
       "      <td>2 Adults No Kids</td>\n",
       "      <td>2</td>\n",
       "      <td>None/Unknown</td>\n",
       "      <td>1</td>\n",
       "    </tr>\n",
       "    <tr>\n",
       "      <th>1</th>\n",
       "      <td>45-54</td>\n",
       "      <td>A</td>\n",
       "      <td>50-74K</td>\n",
       "      <td>Homeowner</td>\n",
       "      <td>2 Adults No Kids</td>\n",
       "      <td>2</td>\n",
       "      <td>None/Unknown</td>\n",
       "      <td>7</td>\n",
       "    </tr>\n",
       "  </tbody>\n",
       "</table>\n",
       "</div>"
      ],
      "text/plain": [
       "  age_desc marital_status_code income_desc homeowner_desc      hh_comp_desc  \\\n",
       "0      65+                   A      35-49K      Homeowner  2 Adults No Kids   \n",
       "1    45-54                   A      50-74K      Homeowner  2 Adults No Kids   \n",
       "\n",
       "  household_size_desc kid_category_desc  user_id  \n",
       "0                   2      None/Unknown        1  \n",
       "1                   2      None/Unknown        7  "
      ]
     },
     "execution_count": 24,
     "metadata": {},
     "output_type": "execute_result"
    }
   ],
   "source": [
    "user_features.head(2)"
   ]
  },
  {
   "cell_type": "code",
   "execution_count": 25,
   "metadata": {},
   "outputs": [
    {
     "data": {
      "text/html": [
       "<div>\n",
       "<style scoped>\n",
       "    .dataframe tbody tr th:only-of-type {\n",
       "        vertical-align: middle;\n",
       "    }\n",
       "\n",
       "    .dataframe tbody tr th {\n",
       "        vertical-align: top;\n",
       "    }\n",
       "\n",
       "    .dataframe thead th {\n",
       "        text-align: right;\n",
       "    }\n",
       "</style>\n",
       "<table border=\"1\" class=\"dataframe\">\n",
       "  <thead>\n",
       "    <tr style=\"text-align: right;\">\n",
       "      <th></th>\n",
       "      <th>user_id</th>\n",
       "      <th>basket_id</th>\n",
       "      <th>day</th>\n",
       "      <th>item_id</th>\n",
       "      <th>quantity</th>\n",
       "      <th>sales_value</th>\n",
       "      <th>store_id</th>\n",
       "      <th>retail_disc</th>\n",
       "      <th>trans_time</th>\n",
       "      <th>week_no</th>\n",
       "      <th>...</th>\n",
       "      <th>commodity_desc</th>\n",
       "      <th>sub_commodity_desc</th>\n",
       "      <th>curr_size_of_product</th>\n",
       "      <th>age_desc</th>\n",
       "      <th>marital_status_code</th>\n",
       "      <th>income_desc</th>\n",
       "      <th>homeowner_desc</th>\n",
       "      <th>hh_comp_desc</th>\n",
       "      <th>household_size_desc</th>\n",
       "      <th>kid_category_desc</th>\n",
       "    </tr>\n",
       "  </thead>\n",
       "  <tbody>\n",
       "    <tr>\n",
       "      <th>0</th>\n",
       "      <td>790</td>\n",
       "      <td>40341753006</td>\n",
       "      <td>573</td>\n",
       "      <td>1110624</td>\n",
       "      <td>1</td>\n",
       "      <td>3.59</td>\n",
       "      <td>31782</td>\n",
       "      <td>0.00</td>\n",
       "      <td>19</td>\n",
       "      <td>83</td>\n",
       "      <td>...</td>\n",
       "      <td>FRZN BREAKFAST FOODS</td>\n",
       "      <td>FRZN BREAKFAST ENTREES/SANDWIC</td>\n",
       "      <td>11 OZ</td>\n",
       "      <td>45-54</td>\n",
       "      <td>U</td>\n",
       "      <td>50-74K</td>\n",
       "      <td>Homeowner</td>\n",
       "      <td>Unknown</td>\n",
       "      <td>1</td>\n",
       "      <td>None/Unknown</td>\n",
       "    </tr>\n",
       "    <tr>\n",
       "      <th>1</th>\n",
       "      <td>790</td>\n",
       "      <td>40341753006</td>\n",
       "      <td>573</td>\n",
       "      <td>5570406</td>\n",
       "      <td>1</td>\n",
       "      <td>1.67</td>\n",
       "      <td>31782</td>\n",
       "      <td>-1.92</td>\n",
       "      <td>19</td>\n",
       "      <td>83</td>\n",
       "      <td>...</td>\n",
       "      <td>FRZN MEAT/MEAT DINNERS</td>\n",
       "      <td>FRZN SS PREMIUM ENTREES/DNRS/T</td>\n",
       "      <td>14.0 OZ</td>\n",
       "      <td>45-54</td>\n",
       "      <td>U</td>\n",
       "      <td>50-74K</td>\n",
       "      <td>Homeowner</td>\n",
       "      <td>Unknown</td>\n",
       "      <td>1</td>\n",
       "      <td>None/Unknown</td>\n",
       "    </tr>\n",
       "  </tbody>\n",
       "</table>\n",
       "<p>2 rows × 25 columns</p>\n",
       "</div>"
      ],
      "text/plain": [
       "   user_id    basket_id  day  item_id  quantity  sales_value  store_id  \\\n",
       "0      790  40341753006  573  1110624         1         3.59     31782   \n",
       "1      790  40341753006  573  5570406         1         1.67     31782   \n",
       "\n",
       "   retail_disc  trans_time  week_no  ...          commodity_desc  \\\n",
       "0         0.00          19       83  ...    FRZN BREAKFAST FOODS   \n",
       "1        -1.92          19       83  ...  FRZN MEAT/MEAT DINNERS   \n",
       "\n",
       "               sub_commodity_desc  curr_size_of_product age_desc  \\\n",
       "0  FRZN BREAKFAST ENTREES/SANDWIC                 11 OZ    45-54   \n",
       "1  FRZN SS PREMIUM ENTREES/DNRS/T               14.0 OZ    45-54   \n",
       "\n",
       "  marital_status_code income_desc homeowner_desc hh_comp_desc  \\\n",
       "0                   U      50-74K      Homeowner      Unknown   \n",
       "1                   U      50-74K      Homeowner      Unknown   \n",
       "\n",
       "  household_size_desc kid_category_desc  \n",
       "0                   1      None/Unknown  \n",
       "1                   1      None/Unknown  \n",
       "\n",
       "[2 rows x 25 columns]"
      ]
     },
     "execution_count": 25,
     "metadata": {},
     "output_type": "execute_result"
    }
   ],
   "source": [
    "data_train_lvl_2.head(2)"
   ]
  },
  {
   "cell_type": "code",
   "execution_count": 26,
   "metadata": {},
   "outputs": [
    {
     "data": {
      "text/plain": [
       "Index(['user_id', 'basket_id', 'day', 'item_id', 'quantity', 'sales_value',\n",
       "       'store_id', 'retail_disc', 'trans_time', 'week_no', 'coupon_disc',\n",
       "       'coupon_match_disc', 'manufacturer', 'department', 'brand',\n",
       "       'commodity_desc', 'sub_commodity_desc', 'curr_size_of_product',\n",
       "       'age_desc', 'marital_status_code', 'income_desc', 'homeowner_desc',\n",
       "       'hh_comp_desc', 'household_size_desc', 'kid_category_desc'],\n",
       "      dtype='object')"
      ]
     },
     "execution_count": 26,
     "metadata": {},
     "output_type": "execute_result"
    }
   ],
   "source": [
    "data_train_lvl_2.columns"
   ]
  },
  {
   "cell_type": "code",
   "execution_count": 27,
   "metadata": {},
   "outputs": [],
   "source": [
    "targets_lvl_2=prepare_dataset.add_part1_features(data_train_lvl_2, users_lvl_2_final, item_features, user_features, user_average_bill, overall_average_bill, overall_average_item_quantity, user_item_quantity,\n",
    "                      overall_item_frequency,user_item_frequency, user_total_quantity, avr_total_quantity)"
   ]
  },
  {
   "cell_type": "code",
   "execution_count": 28,
   "metadata": {},
   "outputs": [
    {
     "data": {
      "text/html": [
       "<div>\n",
       "<style scoped>\n",
       "    .dataframe tbody tr th:only-of-type {\n",
       "        vertical-align: middle;\n",
       "    }\n",
       "\n",
       "    .dataframe tbody tr th {\n",
       "        vertical-align: top;\n",
       "    }\n",
       "\n",
       "    .dataframe thead th {\n",
       "        text-align: right;\n",
       "    }\n",
       "</style>\n",
       "<table border=\"1\" class=\"dataframe\">\n",
       "  <thead>\n",
       "    <tr style=\"text-align: right;\">\n",
       "      <th></th>\n",
       "      <th>user_id</th>\n",
       "      <th>item_id</th>\n",
       "      <th>target</th>\n",
       "      <th>manufacturer</th>\n",
       "      <th>department</th>\n",
       "      <th>brand</th>\n",
       "      <th>commodity_desc</th>\n",
       "      <th>sub_commodity_desc</th>\n",
       "      <th>curr_size_of_product</th>\n",
       "      <th>age_desc</th>\n",
       "      <th>...</th>\n",
       "      <th>homeowner_desc</th>\n",
       "      <th>hh_comp_desc</th>\n",
       "      <th>household_size_desc</th>\n",
       "      <th>kid_category_desc</th>\n",
       "      <th>user_average_bill</th>\n",
       "      <th>user_item_quantity</th>\n",
       "      <th>overall_item_frequency</th>\n",
       "      <th>item_frequency</th>\n",
       "      <th>user_total_quantity</th>\n",
       "      <th>user_log_quantity</th>\n",
       "    </tr>\n",
       "  </thead>\n",
       "  <tbody>\n",
       "    <tr>\n",
       "      <th>0</th>\n",
       "      <td>790</td>\n",
       "      <td>9297055</td>\n",
       "      <td>0.0</td>\n",
       "      <td>274</td>\n",
       "      <td>GROCERY</td>\n",
       "      <td>National</td>\n",
       "      <td>FRZN BREAKFAST FOODS</td>\n",
       "      <td>FRZN BREAKFAST ENTREES/SANDWIC</td>\n",
       "      <td>8.8 OZ</td>\n",
       "      <td>45-54</td>\n",
       "      <td>...</td>\n",
       "      <td>Homeowner</td>\n",
       "      <td>Unknown</td>\n",
       "      <td>1</td>\n",
       "      <td>None/Unknown</td>\n",
       "      <td>3.576306</td>\n",
       "      <td>1.125</td>\n",
       "      <td>0.008068</td>\n",
       "      <td>0.008068</td>\n",
       "      <td>230</td>\n",
       "      <td>0.753772</td>\n",
       "    </tr>\n",
       "    <tr>\n",
       "      <th>1</th>\n",
       "      <td>790</td>\n",
       "      <td>9297310</td>\n",
       "      <td>1.0</td>\n",
       "      <td>274</td>\n",
       "      <td>GROCERY</td>\n",
       "      <td>National</td>\n",
       "      <td>FRZN BREAKFAST FOODS</td>\n",
       "      <td>FRZN BREAKFAST ENTREES/SANDWIC</td>\n",
       "      <td>9.4 OZ</td>\n",
       "      <td>45-54</td>\n",
       "      <td>...</td>\n",
       "      <td>Homeowner</td>\n",
       "      <td>Unknown</td>\n",
       "      <td>1</td>\n",
       "      <td>None/Unknown</td>\n",
       "      <td>3.576306</td>\n",
       "      <td>1.000</td>\n",
       "      <td>0.004256</td>\n",
       "      <td>0.004348</td>\n",
       "      <td>230</td>\n",
       "      <td>0.693147</td>\n",
       "    </tr>\n",
       "  </tbody>\n",
       "</table>\n",
       "<p>2 rows × 22 columns</p>\n",
       "</div>"
      ],
      "text/plain": [
       "   user_id  item_id  target  manufacturer department     brand  \\\n",
       "0      790  9297055     0.0           274    GROCERY  National   \n",
       "1      790  9297310     1.0           274    GROCERY  National   \n",
       "\n",
       "         commodity_desc              sub_commodity_desc curr_size_of_product  \\\n",
       "0  FRZN BREAKFAST FOODS  FRZN BREAKFAST ENTREES/SANDWIC               8.8 OZ   \n",
       "1  FRZN BREAKFAST FOODS  FRZN BREAKFAST ENTREES/SANDWIC               9.4 OZ   \n",
       "\n",
       "  age_desc  ... homeowner_desc hh_comp_desc household_size_desc  \\\n",
       "0    45-54  ...      Homeowner      Unknown                   1   \n",
       "1    45-54  ...      Homeowner      Unknown                   1   \n",
       "\n",
       "  kid_category_desc user_average_bill user_item_quantity  \\\n",
       "0      None/Unknown          3.576306              1.125   \n",
       "1      None/Unknown          3.576306              1.000   \n",
       "\n",
       "   overall_item_frequency  item_frequency  user_total_quantity  \\\n",
       "0                0.008068        0.008068                  230   \n",
       "1                0.004256        0.004348                  230   \n",
       "\n",
       "   user_log_quantity  \n",
       "0           0.753772  \n",
       "1           0.693147  \n",
       "\n",
       "[2 rows x 22 columns]"
      ]
     },
     "execution_count": 28,
     "metadata": {},
     "output_type": "execute_result"
    }
   ],
   "source": [
    "targets_lvl_2.head(2)"
   ]
  },
  {
   "cell_type": "code",
   "execution_count": 29,
   "metadata": {},
   "outputs": [
    {
     "data": {
      "text/plain": [
       "0.06597621649171015"
      ]
     },
     "execution_count": 29,
     "metadata": {},
     "output_type": "execute_result"
    }
   ],
   "source": [
    "targets_lvl_2['target'].mean()"
   ]
  },
  {
   "cell_type": "code",
   "execution_count": 30,
   "metadata": {},
   "outputs": [],
   "source": [
    "targets_lvl_2=prepare_dataset.add_part2_features(targets_lvl_2, overall_comodity_popularity, user_comodity_popularity)"
   ]
  },
  {
   "cell_type": "code",
   "execution_count": 31,
   "metadata": {},
   "outputs": [],
   "source": [
    "targets_lvl_2=prepare_dataset.targets_fillblanks(targets_lvl_2, hh_comp_comodity_popularity)"
   ]
  },
  {
   "cell_type": "code",
   "execution_count": 32,
   "metadata": {},
   "outputs": [
    {
     "data": {
      "text/html": [
       "<div>\n",
       "<style scoped>\n",
       "    .dataframe tbody tr th:only-of-type {\n",
       "        vertical-align: middle;\n",
       "    }\n",
       "\n",
       "    .dataframe tbody tr th {\n",
       "        vertical-align: top;\n",
       "    }\n",
       "\n",
       "    .dataframe thead th {\n",
       "        text-align: right;\n",
       "    }\n",
       "</style>\n",
       "<table border=\"1\" class=\"dataframe\">\n",
       "  <thead>\n",
       "    <tr style=\"text-align: right;\">\n",
       "      <th></th>\n",
       "      <th>user_id</th>\n",
       "      <th>item_id</th>\n",
       "      <th>target</th>\n",
       "      <th>manufacturer</th>\n",
       "      <th>department</th>\n",
       "      <th>brand</th>\n",
       "      <th>commodity_desc</th>\n",
       "      <th>sub_commodity_desc</th>\n",
       "      <th>curr_size_of_product</th>\n",
       "      <th>age_desc</th>\n",
       "      <th>...</th>\n",
       "      <th>user_average_bill</th>\n",
       "      <th>user_item_quantity</th>\n",
       "      <th>overall_item_frequency</th>\n",
       "      <th>item_frequency</th>\n",
       "      <th>user_total_quantity</th>\n",
       "      <th>user_log_quantity</th>\n",
       "      <th>overall_comodity_popularity</th>\n",
       "      <th>user_comodity_popularity</th>\n",
       "      <th>hh_comp_comodity_popularity</th>\n",
       "      <th>item_norm_quantity</th>\n",
       "    </tr>\n",
       "  </thead>\n",
       "  <tbody>\n",
       "    <tr>\n",
       "      <th>0</th>\n",
       "      <td>790</td>\n",
       "      <td>9297055</td>\n",
       "      <td>0.0</td>\n",
       "      <td>274</td>\n",
       "      <td>GROCERY</td>\n",
       "      <td>National</td>\n",
       "      <td>FRZN BREAKFAST FOODS</td>\n",
       "      <td>FRZN BREAKFAST ENTREES/SANDWIC</td>\n",
       "      <td>8.8 OZ</td>\n",
       "      <td>45-54</td>\n",
       "      <td>...</td>\n",
       "      <td>3.576306</td>\n",
       "      <td>1.125</td>\n",
       "      <td>0.008068</td>\n",
       "      <td>0.008068</td>\n",
       "      <td>230</td>\n",
       "      <td>0.753772</td>\n",
       "      <td>2.690355</td>\n",
       "      <td>24.0</td>\n",
       "      <td>0.057506</td>\n",
       "      <td>0.004891</td>\n",
       "    </tr>\n",
       "    <tr>\n",
       "      <th>1</th>\n",
       "      <td>790</td>\n",
       "      <td>9297310</td>\n",
       "      <td>1.0</td>\n",
       "      <td>274</td>\n",
       "      <td>GROCERY</td>\n",
       "      <td>National</td>\n",
       "      <td>FRZN BREAKFAST FOODS</td>\n",
       "      <td>FRZN BREAKFAST ENTREES/SANDWIC</td>\n",
       "      <td>9.4 OZ</td>\n",
       "      <td>45-54</td>\n",
       "      <td>...</td>\n",
       "      <td>3.576306</td>\n",
       "      <td>1.000</td>\n",
       "      <td>0.004256</td>\n",
       "      <td>0.004348</td>\n",
       "      <td>230</td>\n",
       "      <td>0.693147</td>\n",
       "      <td>2.690355</td>\n",
       "      <td>24.0</td>\n",
       "      <td>0.057506</td>\n",
       "      <td>0.004348</td>\n",
       "    </tr>\n",
       "  </tbody>\n",
       "</table>\n",
       "<p>2 rows × 26 columns</p>\n",
       "</div>"
      ],
      "text/plain": [
       "   user_id  item_id  target  manufacturer department     brand  \\\n",
       "0      790  9297055     0.0           274    GROCERY  National   \n",
       "1      790  9297310     1.0           274    GROCERY  National   \n",
       "\n",
       "         commodity_desc              sub_commodity_desc curr_size_of_product  \\\n",
       "0  FRZN BREAKFAST FOODS  FRZN BREAKFAST ENTREES/SANDWIC               8.8 OZ   \n",
       "1  FRZN BREAKFAST FOODS  FRZN BREAKFAST ENTREES/SANDWIC               9.4 OZ   \n",
       "\n",
       "  age_desc  ... user_average_bill user_item_quantity overall_item_frequency  \\\n",
       "0    45-54  ...          3.576306              1.125               0.008068   \n",
       "1    45-54  ...          3.576306              1.000               0.004256   \n",
       "\n",
       "  item_frequency user_total_quantity user_log_quantity  \\\n",
       "0       0.008068                 230          0.753772   \n",
       "1       0.004348                 230          0.693147   \n",
       "\n",
       "   overall_comodity_popularity  user_comodity_popularity  \\\n",
       "0                     2.690355                      24.0   \n",
       "1                     2.690355                      24.0   \n",
       "\n",
       "   hh_comp_comodity_popularity  item_norm_quantity  \n",
       "0                     0.057506            0.004891  \n",
       "1                     0.057506            0.004348  \n",
       "\n",
       "[2 rows x 26 columns]"
      ]
     },
     "execution_count": 32,
     "metadata": {},
     "output_type": "execute_result"
    }
   ],
   "source": [
    "targets_lvl_2.head(2)"
   ]
  },
  {
   "cell_type": "code",
   "execution_count": 33,
   "metadata": {},
   "outputs": [],
   "source": [
    "data_train_lvl_2.to_csv('data_train_lvl_2.csv')"
   ]
  },
  {
   "cell_type": "code",
   "execution_count": 34,
   "metadata": {},
   "outputs": [],
   "source": [
    "X_train = targets_lvl_2.drop('target', axis=1)\n",
    "y_train = targets_lvl_2[['target']]"
   ]
  },
  {
   "cell_type": "code",
   "execution_count": 35,
   "metadata": {},
   "outputs": [
    {
     "data": {
      "text/plain": [
       "Index(['user_id', 'item_id', 'manufacturer', 'department', 'brand',\n",
       "       'commodity_desc', 'sub_commodity_desc', 'curr_size_of_product',\n",
       "       'age_desc', 'marital_status_code', 'income_desc', 'homeowner_desc',\n",
       "       'hh_comp_desc', 'household_size_desc', 'kid_category_desc',\n",
       "       'user_average_bill', 'user_item_quantity', 'overall_item_frequency',\n",
       "       'item_frequency', 'user_total_quantity', 'user_log_quantity',\n",
       "       'overall_comodity_popularity', 'user_comodity_popularity',\n",
       "       'hh_comp_comodity_popularity', 'item_norm_quantity'],\n",
       "      dtype='object')"
      ]
     },
     "execution_count": 35,
     "metadata": {},
     "output_type": "execute_result"
    }
   ],
   "source": [
    "X_train.columns"
   ]
  },
  {
   "cell_type": "code",
   "execution_count": 36,
   "metadata": {},
   "outputs": [
    {
     "data": {
      "text/plain": [
       "['user_id',\n",
       " 'item_id',\n",
       " 'manufacturer',\n",
       " 'department',\n",
       " 'brand',\n",
       " 'commodity_desc',\n",
       " 'sub_commodity_desc',\n",
       " 'curr_size_of_product',\n",
       " 'age_desc',\n",
       " 'marital_status_code',\n",
       " 'income_desc',\n",
       " 'homeowner_desc',\n",
       " 'hh_comp_desc',\n",
       " 'household_size_desc',\n",
       " 'kid_category_desc',\n",
       " 'user_average_bill',\n",
       " 'user_item_quantity',\n",
       " 'overall_item_frequency',\n",
       " 'item_frequency',\n",
       " 'user_total_quantity',\n",
       " 'user_log_quantity',\n",
       " 'overall_comodity_popularity',\n",
       " 'user_comodity_popularity',\n",
       " 'hh_comp_comodity_popularity',\n",
       " 'item_norm_quantity']"
      ]
     },
     "execution_count": 36,
     "metadata": {},
     "output_type": "execute_result"
    }
   ],
   "source": [
    "#cat_feats = X_train.columns[2:].tolist()\n",
    "#cat_feats = X_train.columns[:-6].tolist()\n",
    "cat_feats = X_train.columns.tolist()\n",
    "X_train[cat_feats] = X_train[cat_feats].astype('category')\n",
    "\n",
    "cat_feats"
   ]
  },
  {
   "cell_type": "code",
   "execution_count": 37,
   "metadata": {},
   "outputs": [
    {
     "data": {
      "text/plain": [
       "Index(['user_id', 'item_id', 'manufacturer', 'department', 'brand',\n",
       "       'commodity_desc', 'sub_commodity_desc', 'curr_size_of_product',\n",
       "       'age_desc', 'marital_status_code', 'income_desc', 'homeowner_desc',\n",
       "       'hh_comp_desc', 'household_size_desc', 'kid_category_desc',\n",
       "       'user_average_bill', 'user_item_quantity', 'overall_item_frequency',\n",
       "       'item_frequency', 'user_total_quantity', 'user_log_quantity',\n",
       "       'overall_comodity_popularity', 'user_comodity_popularity',\n",
       "       'hh_comp_comodity_popularity', 'item_norm_quantity'],\n",
       "      dtype='object')"
      ]
     },
     "execution_count": 37,
     "metadata": {},
     "output_type": "execute_result"
    }
   ],
   "source": [
    "X_train.columns"
   ]
  },
  {
   "cell_type": "code",
   "execution_count": 38,
   "metadata": {},
   "outputs": [],
   "source": [
    "from sklearn.preprocessing import MinMaxScaler"
   ]
  },
  {
   "cell_type": "code",
   "execution_count": 39,
   "metadata": {},
   "outputs": [],
   "source": [
    "scaler=MinMaxScaler()"
   ]
  },
  {
   "cell_type": "code",
   "execution_count": 40,
   "metadata": {},
   "outputs": [],
   "source": [
    "#X_train_scalled=scaler.fit_transform(X_train)"
   ]
  },
  {
   "cell_type": "code",
   "execution_count": 41,
   "metadata": {},
   "outputs": [],
   "source": [
    "#X_train_scalled"
   ]
  },
  {
   "cell_type": "code",
   "execution_count": 42,
   "metadata": {},
   "outputs": [
    {
     "name": "stderr",
     "output_type": "stream",
     "text": [
      "C:\\Users\\mailf\\Anaconda3\\lib\\site-packages\\sklearn\\preprocessing\\_label.py:235: DataConversionWarning: A column-vector y was passed when a 1d array was expected. Please change the shape of y to (n_samples, ), for example using ravel().\n",
      "  y = column_or_1d(y, warn=True)\n",
      "C:\\Users\\mailf\\Anaconda3\\lib\\site-packages\\sklearn\\preprocessing\\_label.py:268: DataConversionWarning: A column-vector y was passed when a 1d array was expected. Please change the shape of y to (n_samples, ), for example using ravel().\n",
      "  y = column_or_1d(y, warn=True)\n"
     ]
    },
    {
     "data": {
      "text/plain": [
       "LGBMClassifier(boosting_type='gbdt', class_weight=None, colsample_bytree=1.0,\n",
       "               importance_type='split', learning_rate=0.01, max_depth=2,\n",
       "               min_child_samples=20, min_child_weight=0.001, min_split_gain=0.0,\n",
       "               n_estimators=400, n_jobs=4, num_leaves=31, objective='binary',\n",
       "               random_state=None, reg_alpha=0.0, reg_lambda=0.0, silent=True,\n",
       "               subsample=1.0, subsample_for_bin=200000, subsample_freq=0)"
      ]
     },
     "execution_count": 42,
     "metadata": {},
     "output_type": "execute_result"
    }
   ],
   "source": [
    "#lgb = LGBMClassifier(objective='binary', max_depth=2, categorical_column=cat_feats, n_estimators=500)\n",
    "lgb = LGBMClassifier(objective='binary', max_depth=2, n_estimators=400, learning_rate=0.01, n_jobs=4)\n",
    "lgb.fit(X_train, y_train)\n",
    "\n",
    "#train_preds = lgb.predict(X_train)"
   ]
  },
  {
   "cell_type": "code",
   "execution_count": 43,
   "metadata": {},
   "outputs": [],
   "source": [
    "train_pred_proba=lgb.predict_proba(X_train)"
   ]
  },
  {
   "cell_type": "code",
   "execution_count": 44,
   "metadata": {},
   "outputs": [],
   "source": [
    "# добавим вероятности покупки в датасет\n",
    "\n",
    "train_pred_proba_df =X_train[['user_id', 'item_id']].copy()\n",
    "train_pred_proba_df['proba']=train_pred_proba[:,1]"
   ]
  },
  {
   "cell_type": "code",
   "execution_count": 45,
   "metadata": {},
   "outputs": [
    {
     "data": {
      "text/plain": [
       "Index(['user_id', 'item_id', 'manufacturer', 'department', 'brand',\n",
       "       'commodity_desc', 'sub_commodity_desc', 'curr_size_of_product',\n",
       "       'age_desc', 'marital_status_code', 'income_desc', 'homeowner_desc',\n",
       "       'hh_comp_desc', 'household_size_desc', 'kid_category_desc',\n",
       "       'user_average_bill', 'user_item_quantity', 'overall_item_frequency',\n",
       "       'item_frequency', 'user_total_quantity', 'user_log_quantity',\n",
       "       'overall_comodity_popularity', 'user_comodity_popularity',\n",
       "       'hh_comp_comodity_popularity', 'item_norm_quantity'],\n",
       "      dtype='object')"
      ]
     },
     "execution_count": 45,
     "metadata": {},
     "output_type": "execute_result"
    }
   ],
   "source": [
    "X_train.columns"
   ]
  },
  {
   "cell_type": "code",
   "execution_count": 46,
   "metadata": {},
   "outputs": [
    {
     "data": {
      "text/plain": [
       "array([ 59,  73,   1,   0,   0,  77,  14,   7,   0,   4,   0,   0,   0,\n",
       "         0,   0,   0, 392,   5, 207,   0,   0,  34, 215,   0, 112])"
      ]
     },
     "execution_count": 46,
     "metadata": {},
     "output_type": "execute_result"
    }
   ],
   "source": [
    "lgb.feature_importances_"
   ]
  },
  {
   "cell_type": "code",
   "execution_count": 47,
   "metadata": {},
   "outputs": [
    {
     "data": {
      "image/png": "[encoded data removed]",
      "text/plain": [
       "<Figure size 720x504 with 1 Axes>"
      ]
     },
     "metadata": {
      "needs_background": "light"
     },
     "output_type": "display_data"
    }
   ],
   "source": [
    "fig, ax = plt.subplots(figsize=(10, 7))\n",
    "lightgbm.plot_importance(lgb, max_num_features=len(X_train.columns), ax=ax)\n",
    "plt.title(\"LightGBM - Feature Importance\");"
   ]
  },
  {
   "cell_type": "code",
   "execution_count": 48,
   "metadata": {},
   "outputs": [
    {
     "data": {
      "text/html": [
       "<div>\n",
       "<style scoped>\n",
       "    .dataframe tbody tr th:only-of-type {\n",
       "        vertical-align: middle;\n",
       "    }\n",
       "\n",
       "    .dataframe tbody tr th {\n",
       "        vertical-align: top;\n",
       "    }\n",
       "\n",
       "    .dataframe thead th {\n",
       "        text-align: right;\n",
       "    }\n",
       "</style>\n",
       "<table border=\"1\" class=\"dataframe\">\n",
       "  <thead>\n",
       "    <tr style=\"text-align: right;\">\n",
       "      <th></th>\n",
       "      <th>user_id</th>\n",
       "      <th>item_id</th>\n",
       "      <th>proba</th>\n",
       "    </tr>\n",
       "  </thead>\n",
       "  <tbody>\n",
       "    <tr>\n",
       "      <th>0</th>\n",
       "      <td>790</td>\n",
       "      <td>9297055</td>\n",
       "      <td>0.009580</td>\n",
       "    </tr>\n",
       "    <tr>\n",
       "      <th>1</th>\n",
       "      <td>790</td>\n",
       "      <td>9297310</td>\n",
       "      <td>0.643568</td>\n",
       "    </tr>\n",
       "  </tbody>\n",
       "</table>\n",
       "</div>"
      ],
      "text/plain": [
       "  user_id  item_id     proba\n",
       "0     790  9297055  0.009580\n",
       "1     790  9297310  0.643568"
      ]
     },
     "execution_count": 48,
     "metadata": {},
     "output_type": "execute_result"
    }
   ],
   "source": [
    "train_pred_proba_df.head(2)"
   ]
  },
  {
   "cell_type": "code",
   "execution_count": 49,
   "metadata": {},
   "outputs": [
    {
     "data": {
      "text/html": [
       "<div>\n",
       "<style scoped>\n",
       "    .dataframe tbody tr th:only-of-type {\n",
       "        vertical-align: middle;\n",
       "    }\n",
       "\n",
       "    .dataframe tbody tr th {\n",
       "        vertical-align: top;\n",
       "    }\n",
       "\n",
       "    .dataframe thead th {\n",
       "        text-align: right;\n",
       "    }\n",
       "</style>\n",
       "<table border=\"1\" class=\"dataframe\">\n",
       "  <thead>\n",
       "    <tr style=\"text-align: right;\">\n",
       "      <th></th>\n",
       "      <th>user_id</th>\n",
       "      <th>item_id</th>\n",
       "      <th>proba</th>\n",
       "    </tr>\n",
       "  </thead>\n",
       "  <tbody>\n",
       "    <tr>\n",
       "      <th>753856</th>\n",
       "      <td>2400</td>\n",
       "      <td>1082185</td>\n",
       "      <td>0.967302</td>\n",
       "    </tr>\n",
       "    <tr>\n",
       "      <th>753854</th>\n",
       "      <td>2400</td>\n",
       "      <td>1082185</td>\n",
       "      <td>0.967302</td>\n",
       "    </tr>\n",
       "    <tr>\n",
       "      <th>754016</th>\n",
       "      <td>2400</td>\n",
       "      <td>1082185</td>\n",
       "      <td>0.967302</td>\n",
       "    </tr>\n",
       "    <tr>\n",
       "      <th>754019</th>\n",
       "      <td>2400</td>\n",
       "      <td>1082185</td>\n",
       "      <td>0.967302</td>\n",
       "    </tr>\n",
       "    <tr>\n",
       "      <th>754020</th>\n",
       "      <td>2400</td>\n",
       "      <td>1082185</td>\n",
       "      <td>0.967302</td>\n",
       "    </tr>\n",
       "  </tbody>\n",
       "</table>\n",
       "</div>"
      ],
      "text/plain": [
       "       user_id  item_id     proba\n",
       "753856    2400  1082185  0.967302\n",
       "753854    2400  1082185  0.967302\n",
       "754016    2400  1082185  0.967302\n",
       "754019    2400  1082185  0.967302\n",
       "754020    2400  1082185  0.967302"
      ]
     },
     "execution_count": 49,
     "metadata": {},
     "output_type": "execute_result"
    }
   ],
   "source": [
    "# отсортируем датасет по убыванию вероятности покупки\n",
    "train_pred_proba_df.sort_values('proba', ascending=False, inplace=True)\n",
    "train_pred_proba_df.head()"
   ]
  },
  {
   "cell_type": "code",
   "execution_count": 50,
   "metadata": {},
   "outputs": [
    {
     "data": {
      "text/html": [
       "<div>\n",
       "<style scoped>\n",
       "    .dataframe tbody tr th:only-of-type {\n",
       "        vertical-align: middle;\n",
       "    }\n",
       "\n",
       "    .dataframe tbody tr th {\n",
       "        vertical-align: top;\n",
       "    }\n",
       "\n",
       "    .dataframe thead th {\n",
       "        text-align: right;\n",
       "    }\n",
       "</style>\n",
       "<table border=\"1\" class=\"dataframe\">\n",
       "  <thead>\n",
       "    <tr style=\"text-align: right;\">\n",
       "      <th></th>\n",
       "      <th>user_id</th>\n",
       "      <th>item_id</th>\n",
       "    </tr>\n",
       "  </thead>\n",
       "  <tbody>\n",
       "    <tr>\n",
       "      <th>0</th>\n",
       "      <td>1</td>\n",
       "      <td>[1082185, 979707, 1004906, 865456, 9297615, .....</td>\n",
       "    </tr>\n",
       "    <tr>\n",
       "      <th>1</th>\n",
       "      <td>2</td>\n",
       "      <td>[916122, 899624, 1106523, 1103898, 1082185, .....</td>\n",
       "    </tr>\n",
       "    <tr>\n",
       "      <th>2</th>\n",
       "      <td>3</td>\n",
       "      <td>[1135622, 946839, 1057350, 9676866, 1016093, ....</td>\n",
       "    </tr>\n",
       "    <tr>\n",
       "      <th>3</th>\n",
       "      <td>4</td>\n",
       "      <td>[883932, 990797, 8118675, 891423, 831063, ...,...</td>\n",
       "    </tr>\n",
       "    <tr>\n",
       "      <th>4</th>\n",
       "      <td>5</td>\n",
       "      <td>[1076889, 6463482, 932631, 1036106, 1057350, ....</td>\n",
       "    </tr>\n",
       "  </tbody>\n",
       "</table>\n",
       "</div>"
      ],
      "text/plain": [
       "  user_id                                            item_id\n",
       "0       1  [1082185, 979707, 1004906, 865456, 9297615, .....\n",
       "1       2  [916122, 899624, 1106523, 1103898, 1082185, .....\n",
       "2       3  [1135622, 946839, 1057350, 9676866, 1016093, ....\n",
       "3       4  [883932, 990797, 8118675, 891423, 831063, ...,...\n",
       "4       5  [1076889, 6463482, 932631, 1036106, 1057350, ...."
      ]
     },
     "execution_count": 50,
     "metadata": {},
     "output_type": "execute_result"
    }
   ],
   "source": [
    "# получим по кажомуму пользователю отсортированные уникальные рекомендации\n",
    "train_pred_rec=train_pred_proba_df.groupby('user_id')['item_id'].unique().reset_index()\n",
    "train_pred_rec.head()"
   ]
  },
  {
   "cell_type": "code",
   "execution_count": 51,
   "metadata": {},
   "outputs": [
    {
     "data": {
      "text/html": [
       "<div>\n",
       "<style scoped>\n",
       "    .dataframe tbody tr th:only-of-type {\n",
       "        vertical-align: middle;\n",
       "    }\n",
       "\n",
       "    .dataframe tbody tr th {\n",
       "        vertical-align: top;\n",
       "    }\n",
       "\n",
       "    .dataframe thead th {\n",
       "        text-align: right;\n",
       "    }\n",
       "</style>\n",
       "<table border=\"1\" class=\"dataframe\">\n",
       "  <thead>\n",
       "    <tr style=\"text-align: right;\">\n",
       "      <th></th>\n",
       "      <th>user_id</th>\n",
       "      <th>actual_items</th>\n",
       "    </tr>\n",
       "  </thead>\n",
       "  <tbody>\n",
       "    <tr>\n",
       "      <th>0</th>\n",
       "      <td>1</td>\n",
       "      <td>[836548, 856942, 877391, 933913, 948420, 10368...</td>\n",
       "    </tr>\n",
       "    <tr>\n",
       "      <th>1</th>\n",
       "      <td>2</td>\n",
       "      <td>[831125, 838136, 852864, 899624, 908649, 91504...</td>\n",
       "    </tr>\n",
       "  </tbody>\n",
       "</table>\n",
       "</div>"
      ],
      "text/plain": [
       "   user_id                                       actual_items\n",
       "0        1  [836548, 856942, 877391, 933913, 948420, 10368...\n",
       "1        2  [831125, 838136, 852864, 899624, 908649, 91504..."
      ]
     },
     "execution_count": 51,
     "metadata": {},
     "output_type": "execute_result"
    }
   ],
   "source": [
    "actual_items=data_train_lvl_2[['user_id', 'item_id']]\n",
    "actual_items=actual_items.groupby('user_id')['item_id'].unique().reset_index()\n",
    "actual_items.rename(columns={'item_id': 'actual_items'}, inplace=True)\n",
    "actual_items.head(2)"
   ]
  },
  {
   "cell_type": "code",
   "execution_count": 52,
   "metadata": {},
   "outputs": [
    {
     "data": {
      "text/html": [
       "<div>\n",
       "<style scoped>\n",
       "    .dataframe tbody tr th:only-of-type {\n",
       "        vertical-align: middle;\n",
       "    }\n",
       "\n",
       "    .dataframe tbody tr th {\n",
       "        vertical-align: top;\n",
       "    }\n",
       "\n",
       "    .dataframe thead th {\n",
       "        text-align: right;\n",
       "    }\n",
       "</style>\n",
       "<table border=\"1\" class=\"dataframe\">\n",
       "  <thead>\n",
       "    <tr style=\"text-align: right;\">\n",
       "      <th></th>\n",
       "      <th>user_id</th>\n",
       "      <th>actual_items</th>\n",
       "      <th>item_id</th>\n",
       "    </tr>\n",
       "  </thead>\n",
       "  <tbody>\n",
       "    <tr>\n",
       "      <th>0</th>\n",
       "      <td>1</td>\n",
       "      <td>[836548, 856942, 877391, 933913, 948420, 10368...</td>\n",
       "      <td>[1082185, 979707, 1004906, 865456, 9297615, .....</td>\n",
       "    </tr>\n",
       "    <tr>\n",
       "      <th>1</th>\n",
       "      <td>2</td>\n",
       "      <td>[831125, 838136, 852864, 899624, 908649, 91504...</td>\n",
       "      <td>[916122, 899624, 1106523, 1103898, 1082185, .....</td>\n",
       "    </tr>\n",
       "  </tbody>\n",
       "</table>\n",
       "</div>"
      ],
      "text/plain": [
       "  user_id                                       actual_items  \\\n",
       "0       1  [836548, 856942, 877391, 933913, 948420, 10368...   \n",
       "1       2  [831125, 838136, 852864, 899624, 908649, 91504...   \n",
       "\n",
       "                                             item_id  \n",
       "0  [1082185, 979707, 1004906, 865456, 9297615, .....  \n",
       "1  [916122, 899624, 1106523, 1103898, 1082185, .....  "
      ]
     },
     "execution_count": 52,
     "metadata": {},
     "output_type": "execute_result"
    }
   ],
   "source": [
    "act_and_rec_df_lvl_2=actual_items.merge(train_pred_rec, on='user_id', how='left')\n",
    "act_and_rec_df_lvl_2.head(2)"
   ]
  },
  {
   "cell_type": "code",
   "execution_count": 53,
   "metadata": {},
   "outputs": [
    {
     "name": "stdout",
     "output_type": "stream",
     "text": [
      "Качество precision_at_k на трейне 0.8359240069084629\n"
     ]
    }
   ],
   "source": [
    "l=[]\n",
    "for i in range(len(act_and_rec_df_lvl_2['user_id'])):\n",
    "    l.append(precision_at_k(act_and_rec_df_lvl_2['item_id'][i], act_and_rec_df_lvl_2['actual_items'][i], k=5))\n",
    "mean_precision_at_k=np.mean(l)\n",
    "print(\"Качество precision_at_k на трейне\", mean_precision_at_k)"
   ]
  },
  {
   "cell_type": "markdown",
   "metadata": {},
   "source": [
    "Посмотрим качество на 3м уровне"
   ]
  },
  {
   "cell_type": "code",
   "execution_count": 88,
   "metadata": {},
   "outputs": [],
   "source": [
    "test_users = pd.DataFrame(test1_data['user_id'].unique())\n",
    "test_users.columns = ['user_id']"
   ]
  },
  {
   "cell_type": "code",
   "execution_count": 89,
   "metadata": {},
   "outputs": [
    {
     "data": {
      "text/plain": [
       "(1885, 1)"
      ]
     },
     "execution_count": 89,
     "metadata": {},
     "output_type": "execute_result"
    }
   ],
   "source": [
    "test_users.shape"
   ]
  },
  {
   "cell_type": "code",
   "execution_count": 90,
   "metadata": {},
   "outputs": [
    {
     "data": {
      "text/plain": [
       "(40, 1)"
      ]
     },
     "execution_count": 90,
     "metadata": {},
     "output_type": "execute_result"
    }
   ],
   "source": [
    "train_users = first_level_candidates['user_id'].unique()\n",
    "test_missing_users=test_users[~test_users['user_id'].isin(train_users)]\n",
    "test_missing_users.shape"
   ]
  },
  {
   "cell_type": "code",
   "execution_count": 91,
   "metadata": {},
   "outputs": [
    {
     "name": "stderr",
     "output_type": "stream",
     "text": [
      "C:\\Users\\mailf\\Anaconda3\\lib\\site-packages\\ipykernel_launcher.py:1: SettingWithCopyWarning: \n",
      "A value is trying to be set on a copy of a slice from a DataFrame.\n",
      "Try using .loc[row_indexer,col_indexer] = value instead\n",
      "\n",
      "See the caveats in the documentation: http://pandas.pydata.org/pandas-docs/stable/indexing.html#indexing-view-versus-copy\n",
      "  \"\"\"Entry point for launching an IPython kernel.\n"
     ]
    }
   ],
   "source": [
    "test_missing_users['candidates'] = test_missing_users['user_id'].apply(lambda x: recommender.get_own_recommendations(x, N=800))"
   ]
  },
  {
   "cell_type": "code",
   "execution_count": 92,
   "metadata": {},
   "outputs": [
    {
     "data": {
      "text/html": [
       "<div>\n",
       "<style scoped>\n",
       "    .dataframe tbody tr th:only-of-type {\n",
       "        vertical-align: middle;\n",
       "    }\n",
       "\n",
       "    .dataframe tbody tr th {\n",
       "        vertical-align: top;\n",
       "    }\n",
       "\n",
       "    .dataframe thead th {\n",
       "        text-align: right;\n",
       "    }\n",
       "</style>\n",
       "<table border=\"1\" class=\"dataframe\">\n",
       "  <thead>\n",
       "    <tr style=\"text-align: right;\">\n",
       "      <th></th>\n",
       "      <th>user_id</th>\n",
       "      <th>candidates</th>\n",
       "    </tr>\n",
       "  </thead>\n",
       "  <tbody>\n",
       "    <tr>\n",
       "      <th>0</th>\n",
       "      <td>1340</td>\n",
       "      <td>[13381928, 1024032, 7147133, 948381, 1069582, ...</td>\n",
       "    </tr>\n",
       "    <tr>\n",
       "      <th>1</th>\n",
       "      <td>588</td>\n",
       "      <td>[1100830, 1097363, 983659, 7410336, 896611, 10...</td>\n",
       "    </tr>\n",
       "  </tbody>\n",
       "</table>\n",
       "</div>"
      ],
      "text/plain": [
       "   user_id                                         candidates\n",
       "0     1340  [13381928, 1024032, 7147133, 948381, 1069582, ...\n",
       "1      588  [1100830, 1097363, 983659, 7410336, 896611, 10..."
      ]
     },
     "execution_count": 92,
     "metadata": {},
     "output_type": "execute_result"
    }
   ],
   "source": [
    "users_lvl_3_final=test_users.merge(first_level_candidates, on='user_id', how='inner')\n",
    "users_lvl_3_final.head(2)"
   ]
  },
  {
   "cell_type": "code",
   "execution_count": 93,
   "metadata": {},
   "outputs": [
    {
     "data": {
      "text/plain": [
       "(1845, 2)"
      ]
     },
     "execution_count": 93,
     "metadata": {},
     "output_type": "execute_result"
    }
   ],
   "source": [
    "users_lvl_3_final.shape"
   ]
  },
  {
   "cell_type": "code",
   "execution_count": 94,
   "metadata": {},
   "outputs": [],
   "source": [
    "users_lvl_3=pd.concat([users_lvl_3_final,test_missing_users])\n",
    "test_1st_level_pred=users_lvl_3"
   ]
  },
  {
   "cell_type": "code",
   "execution_count": 95,
   "metadata": {},
   "outputs": [
    {
     "data": {
      "text/plain": [
       "(1885, 2)"
      ]
     },
     "execution_count": 95,
     "metadata": {},
     "output_type": "execute_result"
    }
   ],
   "source": [
    "users_lvl_3.shape"
   ]
  },
  {
   "cell_type": "code",
   "execution_count": 96,
   "metadata": {},
   "outputs": [],
   "source": [
    "s2 = users_lvl_3.apply(lambda x: pd.Series(x['candidates']), axis=1).stack().reset_index(level=1, drop=True)\n",
    "s2.name = 'item_id'"
   ]
  },
  {
   "cell_type": "code",
   "execution_count": 97,
   "metadata": {},
   "outputs": [
    {
     "data": {
      "text/html": [
       "<div>\n",
       "<style scoped>\n",
       "    .dataframe tbody tr th:only-of-type {\n",
       "        vertical-align: middle;\n",
       "    }\n",
       "\n",
       "    .dataframe tbody tr th {\n",
       "        vertical-align: top;\n",
       "    }\n",
       "\n",
       "    .dataframe thead th {\n",
       "        text-align: right;\n",
       "    }\n",
       "</style>\n",
       "<table border=\"1\" class=\"dataframe\">\n",
       "  <thead>\n",
       "    <tr style=\"text-align: right;\">\n",
       "      <th></th>\n",
       "      <th>user_id</th>\n",
       "      <th>item_id</th>\n",
       "      <th>flag</th>\n",
       "    </tr>\n",
       "  </thead>\n",
       "  <tbody>\n",
       "    <tr>\n",
       "      <th>0</th>\n",
       "      <td>1340</td>\n",
       "      <td>13381928.0</td>\n",
       "      <td>1</td>\n",
       "    </tr>\n",
       "    <tr>\n",
       "      <th>0</th>\n",
       "      <td>1340</td>\n",
       "      <td>1024032.0</td>\n",
       "      <td>1</td>\n",
       "    </tr>\n",
       "    <tr>\n",
       "      <th>0</th>\n",
       "      <td>1340</td>\n",
       "      <td>7147133.0</td>\n",
       "      <td>1</td>\n",
       "    </tr>\n",
       "    <tr>\n",
       "      <th>0</th>\n",
       "      <td>1340</td>\n",
       "      <td>948381.0</td>\n",
       "      <td>1</td>\n",
       "    </tr>\n",
       "    <tr>\n",
       "      <th>0</th>\n",
       "      <td>1340</td>\n",
       "      <td>1069582.0</td>\n",
       "      <td>1</td>\n",
       "    </tr>\n",
       "  </tbody>\n",
       "</table>\n",
       "</div>"
      ],
      "text/plain": [
       "   user_id     item_id  flag\n",
       "0     1340  13381928.0     1\n",
       "0     1340   1024032.0     1\n",
       "0     1340   7147133.0     1\n",
       "0     1340    948381.0     1\n",
       "0     1340   1069582.0     1"
      ]
     },
     "execution_count": 97,
     "metadata": {},
     "output_type": "execute_result"
    }
   ],
   "source": [
    "users_lvl_3 = users_lvl_3.drop('candidates', axis=1).join(s2)\n",
    "users_lvl_3['flag'] = 1\n",
    "\n",
    "users_lvl_3.head(5)"
   ]
  },
  {
   "cell_type": "code",
   "execution_count": 99,
   "metadata": {},
   "outputs": [],
   "source": [
    "users_lvl_3['item_id']=users_lvl_3['item_id'].astype('int')\n"
   ]
  },
  {
   "cell_type": "code",
   "execution_count": 100,
   "metadata": {},
   "outputs": [],
   "source": [
    "targets_lvl_3=prepare_dataset.add_part1_features(test1_data, users_lvl_3, item_features, user_features,user_average_bill, overall_average_bill, overall_average_item_quantity, user_item_quantity,\n",
    "                      overall_item_frequency,user_item_frequency, user_total_quantity, avr_total_quantity)"
   ]
  },
  {
   "cell_type": "code",
   "execution_count": 101,
   "metadata": {},
   "outputs": [],
   "source": [
    "targets_lvl_3=prepare_dataset.add_part2_features(targets_lvl_3, overall_comodity_popularity, user_comodity_popularity)"
   ]
  },
  {
   "cell_type": "code",
   "execution_count": 102,
   "metadata": {},
   "outputs": [],
   "source": [
    "targets_lvl_3=prepare_dataset.targets_fillblanks(targets_lvl_3, hh_comp_comodity_popularity)"
   ]
  },
  {
   "cell_type": "code",
   "execution_count": 103,
   "metadata": {},
   "outputs": [
    {
     "data": {
      "text/html": [
       "<div>\n",
       "<style scoped>\n",
       "    .dataframe tbody tr th:only-of-type {\n",
       "        vertical-align: middle;\n",
       "    }\n",
       "\n",
       "    .dataframe tbody tr th {\n",
       "        vertical-align: top;\n",
       "    }\n",
       "\n",
       "    .dataframe thead th {\n",
       "        text-align: right;\n",
       "    }\n",
       "</style>\n",
       "<table border=\"1\" class=\"dataframe\">\n",
       "  <thead>\n",
       "    <tr style=\"text-align: right;\">\n",
       "      <th></th>\n",
       "      <th>user_id</th>\n",
       "      <th>item_id</th>\n",
       "      <th>target</th>\n",
       "      <th>manufacturer</th>\n",
       "      <th>department</th>\n",
       "      <th>brand</th>\n",
       "      <th>commodity_desc</th>\n",
       "      <th>sub_commodity_desc</th>\n",
       "      <th>curr_size_of_product</th>\n",
       "      <th>age_desc</th>\n",
       "      <th>...</th>\n",
       "      <th>user_average_bill</th>\n",
       "      <th>user_item_quantity</th>\n",
       "      <th>overall_item_frequency</th>\n",
       "      <th>item_frequency</th>\n",
       "      <th>user_total_quantity</th>\n",
       "      <th>user_log_quantity</th>\n",
       "      <th>overall_comodity_popularity</th>\n",
       "      <th>user_comodity_popularity</th>\n",
       "      <th>hh_comp_comodity_popularity</th>\n",
       "      <th>item_norm_quantity</th>\n",
       "    </tr>\n",
       "  </thead>\n",
       "  <tbody>\n",
       "    <tr>\n",
       "      <th>0</th>\n",
       "      <td>1340</td>\n",
       "      <td>13381928</td>\n",
       "      <td>0.0</td>\n",
       "      <td>239</td>\n",
       "      <td>GROCERY</td>\n",
       "      <td>National</td>\n",
       "      <td>BEERS/ALES</td>\n",
       "      <td>BEERALEMALT LIQUORS</td>\n",
       "      <td>12/12 OZ</td>\n",
       "      <td>45-54</td>\n",
       "      <td>...</td>\n",
       "      <td>2.178929</td>\n",
       "      <td>1.333333</td>\n",
       "      <td>0.003545</td>\n",
       "      <td>0.003545</td>\n",
       "      <td>19.0</td>\n",
       "      <td>0.847298</td>\n",
       "      <td>3.746334</td>\n",
       "      <td>3.746334</td>\n",
       "      <td>0.153384</td>\n",
       "      <td>0.070175</td>\n",
       "    </tr>\n",
       "    <tr>\n",
       "      <th>1</th>\n",
       "      <td>1340</td>\n",
       "      <td>1024032</td>\n",
       "      <td>0.0</td>\n",
       "      <td>69</td>\n",
       "      <td>GROCERY</td>\n",
       "      <td>Private</td>\n",
       "      <td>CHEESE</td>\n",
       "      <td>NATURAL CHEESE EXACT WT CHUNKS</td>\n",
       "      <td>24 OZ</td>\n",
       "      <td>45-54</td>\n",
       "      <td>...</td>\n",
       "      <td>2.178929</td>\n",
       "      <td>1.200000</td>\n",
       "      <td>0.005864</td>\n",
       "      <td>0.005864</td>\n",
       "      <td>19.0</td>\n",
       "      <td>0.788457</td>\n",
       "      <td>2.899209</td>\n",
       "      <td>1.000000</td>\n",
       "      <td>0.159021</td>\n",
       "      <td>0.063158</td>\n",
       "    </tr>\n",
       "  </tbody>\n",
       "</table>\n",
       "<p>2 rows × 26 columns</p>\n",
       "</div>"
      ],
      "text/plain": [
       "   user_id   item_id  target  manufacturer department     brand  \\\n",
       "0     1340  13381928     0.0           239    GROCERY  National   \n",
       "1     1340   1024032     0.0            69    GROCERY   Private   \n",
       "\n",
       "  commodity_desc              sub_commodity_desc curr_size_of_product  \\\n",
       "0     BEERS/ALES             BEERALEMALT LIQUORS             12/12 OZ   \n",
       "1         CHEESE  NATURAL CHEESE EXACT WT CHUNKS                24 OZ   \n",
       "\n",
       "  age_desc  ... user_average_bill user_item_quantity overall_item_frequency  \\\n",
       "0    45-54  ...          2.178929           1.333333               0.003545   \n",
       "1    45-54  ...          2.178929           1.200000               0.005864   \n",
       "\n",
       "  item_frequency user_total_quantity user_log_quantity  \\\n",
       "0       0.003545                19.0          0.847298   \n",
       "1       0.005864                19.0          0.788457   \n",
       "\n",
       "   overall_comodity_popularity  user_comodity_popularity  \\\n",
       "0                     3.746334                  3.746334   \n",
       "1                     2.899209                  1.000000   \n",
       "\n",
       "   hh_comp_comodity_popularity  item_norm_quantity  \n",
       "0                     0.153384            0.070175  \n",
       "1                     0.159021            0.063158  \n",
       "\n",
       "[2 rows x 26 columns]"
      ]
     },
     "execution_count": 103,
     "metadata": {},
     "output_type": "execute_result"
    }
   ],
   "source": [
    "targets_lvl_3.head(2)\n",
    "\n",
    "\n"
   ]
  },
  {
   "cell_type": "code",
   "execution_count": 104,
   "metadata": {},
   "outputs": [
    {
     "data": {
      "text/plain": [
       "0.019898082464485742"
      ]
     },
     "execution_count": 104,
     "metadata": {},
     "output_type": "execute_result"
    }
   ],
   "source": [
    "targets_lvl_3['target'].mean()"
   ]
  },
  {
   "cell_type": "code",
   "execution_count": 105,
   "metadata": {},
   "outputs": [],
   "source": [
    "X_test = targets_lvl_3.drop('target', axis=1)\n",
    "y_test = targets_lvl_3[['target']]"
   ]
  },
  {
   "cell_type": "code",
   "execution_count": 106,
   "metadata": {},
   "outputs": [
    {
     "data": {
      "text/html": [
       "<div>\n",
       "<style scoped>\n",
       "    .dataframe tbody tr th:only-of-type {\n",
       "        vertical-align: middle;\n",
       "    }\n",
       "\n",
       "    .dataframe tbody tr th {\n",
       "        vertical-align: top;\n",
       "    }\n",
       "\n",
       "    .dataframe thead th {\n",
       "        text-align: right;\n",
       "    }\n",
       "</style>\n",
       "<table border=\"1\" class=\"dataframe\">\n",
       "  <thead>\n",
       "    <tr style=\"text-align: right;\">\n",
       "      <th></th>\n",
       "      <th>user_id</th>\n",
       "      <th>item_id</th>\n",
       "      <th>manufacturer</th>\n",
       "      <th>department</th>\n",
       "      <th>brand</th>\n",
       "      <th>commodity_desc</th>\n",
       "      <th>sub_commodity_desc</th>\n",
       "      <th>curr_size_of_product</th>\n",
       "      <th>age_desc</th>\n",
       "      <th>marital_status_code</th>\n",
       "      <th>...</th>\n",
       "      <th>user_average_bill</th>\n",
       "      <th>user_item_quantity</th>\n",
       "      <th>overall_item_frequency</th>\n",
       "      <th>item_frequency</th>\n",
       "      <th>user_total_quantity</th>\n",
       "      <th>user_log_quantity</th>\n",
       "      <th>overall_comodity_popularity</th>\n",
       "      <th>user_comodity_popularity</th>\n",
       "      <th>hh_comp_comodity_popularity</th>\n",
       "      <th>item_norm_quantity</th>\n",
       "    </tr>\n",
       "  </thead>\n",
       "  <tbody>\n",
       "    <tr>\n",
       "      <th>0</th>\n",
       "      <td>1340</td>\n",
       "      <td>13381928</td>\n",
       "      <td>239</td>\n",
       "      <td>GROCERY</td>\n",
       "      <td>National</td>\n",
       "      <td>BEERS/ALES</td>\n",
       "      <td>BEERALEMALT LIQUORS</td>\n",
       "      <td>12/12 OZ</td>\n",
       "      <td>45-54</td>\n",
       "      <td>U</td>\n",
       "      <td>...</td>\n",
       "      <td>2.178929</td>\n",
       "      <td>1.333333</td>\n",
       "      <td>0.003545</td>\n",
       "      <td>0.003545</td>\n",
       "      <td>19.0</td>\n",
       "      <td>0.847298</td>\n",
       "      <td>3.746334</td>\n",
       "      <td>3.746334</td>\n",
       "      <td>0.153384</td>\n",
       "      <td>0.070175</td>\n",
       "    </tr>\n",
       "    <tr>\n",
       "      <th>1</th>\n",
       "      <td>1340</td>\n",
       "      <td>1024032</td>\n",
       "      <td>69</td>\n",
       "      <td>GROCERY</td>\n",
       "      <td>Private</td>\n",
       "      <td>CHEESE</td>\n",
       "      <td>NATURAL CHEESE EXACT WT CHUNKS</td>\n",
       "      <td>24 OZ</td>\n",
       "      <td>45-54</td>\n",
       "      <td>U</td>\n",
       "      <td>...</td>\n",
       "      <td>2.178929</td>\n",
       "      <td>1.200000</td>\n",
       "      <td>0.005864</td>\n",
       "      <td>0.005864</td>\n",
       "      <td>19.0</td>\n",
       "      <td>0.788457</td>\n",
       "      <td>2.899209</td>\n",
       "      <td>1.000000</td>\n",
       "      <td>0.159021</td>\n",
       "      <td>0.063158</td>\n",
       "    </tr>\n",
       "  </tbody>\n",
       "</table>\n",
       "<p>2 rows × 25 columns</p>\n",
       "</div>"
      ],
      "text/plain": [
       "   user_id   item_id  manufacturer department     brand commodity_desc  \\\n",
       "0     1340  13381928           239    GROCERY  National     BEERS/ALES   \n",
       "1     1340   1024032            69    GROCERY   Private         CHEESE   \n",
       "\n",
       "               sub_commodity_desc curr_size_of_product age_desc  \\\n",
       "0             BEERALEMALT LIQUORS             12/12 OZ    45-54   \n",
       "1  NATURAL CHEESE EXACT WT CHUNKS                24 OZ    45-54   \n",
       "\n",
       "  marital_status_code  ... user_average_bill user_item_quantity  \\\n",
       "0                   U  ...          2.178929           1.333333   \n",
       "1                   U  ...          2.178929           1.200000   \n",
       "\n",
       "  overall_item_frequency item_frequency user_total_quantity  \\\n",
       "0               0.003545       0.003545                19.0   \n",
       "1               0.005864       0.005864                19.0   \n",
       "\n",
       "   user_log_quantity  overall_comodity_popularity  user_comodity_popularity  \\\n",
       "0           0.847298                     3.746334                  3.746334   \n",
       "1           0.788457                     2.899209                  1.000000   \n",
       "\n",
       "   hh_comp_comodity_popularity  item_norm_quantity  \n",
       "0                     0.153384            0.070175  \n",
       "1                     0.159021            0.063158  \n",
       "\n",
       "[2 rows x 25 columns]"
      ]
     },
     "execution_count": 106,
     "metadata": {},
     "output_type": "execute_result"
    }
   ],
   "source": [
    "X_test.head(2)"
   ]
  },
  {
   "cell_type": "code",
   "execution_count": 107,
   "metadata": {},
   "outputs": [],
   "source": [
    "#X_test=X_test.drop(cat_feats, axis=1)"
   ]
  },
  {
   "cell_type": "code",
   "execution_count": 108,
   "metadata": {},
   "outputs": [
    {
     "data": {
      "text/plain": [
       "Index(['user_id', 'item_id', 'manufacturer', 'department', 'brand',\n",
       "       'commodity_desc', 'sub_commodity_desc', 'curr_size_of_product',\n",
       "       'age_desc', 'marital_status_code', 'income_desc', 'homeowner_desc',\n",
       "       'hh_comp_desc', 'household_size_desc', 'kid_category_desc',\n",
       "       'user_average_bill', 'user_item_quantity', 'overall_item_frequency',\n",
       "       'item_frequency', 'user_total_quantity', 'user_log_quantity',\n",
       "       'overall_comodity_popularity', 'user_comodity_popularity',\n",
       "       'hh_comp_comodity_popularity', 'item_norm_quantity'],\n",
       "      dtype='object')"
      ]
     },
     "execution_count": 108,
     "metadata": {},
     "output_type": "execute_result"
    }
   ],
   "source": [
    "X_test.columns"
   ]
  },
  {
   "cell_type": "code",
   "execution_count": 109,
   "metadata": {},
   "outputs": [
    {
     "data": {
      "text/plain": [
       "['user_id',\n",
       " 'item_id',\n",
       " 'manufacturer',\n",
       " 'department',\n",
       " 'brand',\n",
       " 'commodity_desc',\n",
       " 'sub_commodity_desc',\n",
       " 'curr_size_of_product',\n",
       " 'age_desc',\n",
       " 'marital_status_code',\n",
       " 'income_desc',\n",
       " 'homeowner_desc',\n",
       " 'hh_comp_desc',\n",
       " 'household_size_desc',\n",
       " 'kid_category_desc',\n",
       " 'user_average_bill',\n",
       " 'user_item_quantity',\n",
       " 'overall_item_frequency',\n",
       " 'item_frequency',\n",
       " 'user_total_quantity',\n",
       " 'user_log_quantity',\n",
       " 'overall_comodity_popularity',\n",
       " 'user_comodity_popularity',\n",
       " 'hh_comp_comodity_popularity',\n",
       " 'item_norm_quantity']"
      ]
     },
     "execution_count": 109,
     "metadata": {},
     "output_type": "execute_result"
    }
   ],
   "source": [
    "X_test[cat_feats] = X_test[cat_feats].astype('category')\n",
    "\n",
    "cat_feats"
   ]
  },
  {
   "cell_type": "code",
   "execution_count": 110,
   "metadata": {},
   "outputs": [],
   "source": [
    "#X_test_scalled=scaler.fit_transform(X_test)"
   ]
  },
  {
   "cell_type": "code",
   "execution_count": 111,
   "metadata": {},
   "outputs": [
    {
     "data": {
      "text/html": [
       "<div>\n",
       "<style scoped>\n",
       "    .dataframe tbody tr th:only-of-type {\n",
       "        vertical-align: middle;\n",
       "    }\n",
       "\n",
       "    .dataframe tbody tr th {\n",
       "        vertical-align: top;\n",
       "    }\n",
       "\n",
       "    .dataframe thead th {\n",
       "        text-align: right;\n",
       "    }\n",
       "</style>\n",
       "<table border=\"1\" class=\"dataframe\">\n",
       "  <thead>\n",
       "    <tr style=\"text-align: right;\">\n",
       "      <th></th>\n",
       "      <th>user_id</th>\n",
       "      <th>item_id</th>\n",
       "      <th>proba</th>\n",
       "    </tr>\n",
       "  </thead>\n",
       "  <tbody>\n",
       "    <tr>\n",
       "      <th>508748</th>\n",
       "      <td>2400</td>\n",
       "      <td>1082185</td>\n",
       "      <td>0.967302</td>\n",
       "    </tr>\n",
       "    <tr>\n",
       "      <th>508605</th>\n",
       "      <td>2400</td>\n",
       "      <td>1082185</td>\n",
       "      <td>0.967302</td>\n",
       "    </tr>\n",
       "    <tr>\n",
       "      <th>348136</th>\n",
       "      <td>474</td>\n",
       "      <td>1106523</td>\n",
       "      <td>0.967299</td>\n",
       "    </tr>\n",
       "    <tr>\n",
       "      <th>1027726</th>\n",
       "      <td>2240</td>\n",
       "      <td>1029743</td>\n",
       "      <td>0.967168</td>\n",
       "    </tr>\n",
       "    <tr>\n",
       "      <th>1027730</th>\n",
       "      <td>2240</td>\n",
       "      <td>1029743</td>\n",
       "      <td>0.967168</td>\n",
       "    </tr>\n",
       "  </tbody>\n",
       "</table>\n",
       "</div>"
      ],
      "text/plain": [
       "        user_id  item_id     proba\n",
       "508748     2400  1082185  0.967302\n",
       "508605     2400  1082185  0.967302\n",
       "348136      474  1106523  0.967299\n",
       "1027726    2240  1029743  0.967168\n",
       "1027730    2240  1029743  0.967168"
      ]
     },
     "execution_count": 111,
     "metadata": {},
     "output_type": "execute_result"
    }
   ],
   "source": [
    "test_pred_proba=lgb.predict_proba(X_test)\n",
    "\n",
    "# добавим вероятности покупки в датасет\n",
    "\n",
    "test_pred_proba_df =X_test[['user_id', 'item_id']].copy()\n",
    "test_pred_proba_df['proba']=test_pred_proba[:,1]\n",
    "\n",
    "# отсортируем датасет по убыванию вероятности покупки\n",
    "test_pred_proba_df.sort_values('proba', ascending=False, inplace=True)\n",
    "test_pred_proba_df.head()"
   ]
  },
  {
   "cell_type": "code",
   "execution_count": 112,
   "metadata": {},
   "outputs": [
    {
     "data": {
      "text/html": [
       "<div>\n",
       "<style scoped>\n",
       "    .dataframe tbody tr th:only-of-type {\n",
       "        vertical-align: middle;\n",
       "    }\n",
       "\n",
       "    .dataframe tbody tr th {\n",
       "        vertical-align: top;\n",
       "    }\n",
       "\n",
       "    .dataframe thead th {\n",
       "        text-align: right;\n",
       "    }\n",
       "</style>\n",
       "<table border=\"1\" class=\"dataframe\">\n",
       "  <thead>\n",
       "    <tr style=\"text-align: right;\">\n",
       "      <th></th>\n",
       "      <th>user_id</th>\n",
       "      <th>item_id</th>\n",
       "    </tr>\n",
       "  </thead>\n",
       "  <tbody>\n",
       "    <tr>\n",
       "      <th>0</th>\n",
       "      <td>1</td>\n",
       "      <td>[1082185, 979707, 1004906, 865456, 9297615, .....</td>\n",
       "    </tr>\n",
       "    <tr>\n",
       "      <th>1</th>\n",
       "      <td>2</td>\n",
       "      <td>[916122, 899624, 1106523, 1103898, 1082185, .....</td>\n",
       "    </tr>\n",
       "    <tr>\n",
       "      <th>2</th>\n",
       "      <td>3</td>\n",
       "      <td>[1135622, 946839, 1057350, 9676866, 1016093, ....</td>\n",
       "    </tr>\n",
       "    <tr>\n",
       "      <th>3</th>\n",
       "      <td>6</td>\n",
       "      <td>[1082185, 12757544, 1024306, 6548453, 1098844,...</td>\n",
       "    </tr>\n",
       "    <tr>\n",
       "      <th>4</th>\n",
       "      <td>7</td>\n",
       "      <td>[1106523, 1082185, 1126899, 6034857, 1122358, ...</td>\n",
       "    </tr>\n",
       "  </tbody>\n",
       "</table>\n",
       "</div>"
      ],
      "text/plain": [
       "  user_id                                            item_id\n",
       "0       1  [1082185, 979707, 1004906, 865456, 9297615, .....\n",
       "1       2  [916122, 899624, 1106523, 1103898, 1082185, .....\n",
       "2       3  [1135622, 946839, 1057350, 9676866, 1016093, ....\n",
       "3       6  [1082185, 12757544, 1024306, 6548453, 1098844,...\n",
       "4       7  [1106523, 1082185, 1126899, 6034857, 1122358, ..."
      ]
     },
     "execution_count": 112,
     "metadata": {},
     "output_type": "execute_result"
    }
   ],
   "source": [
    "# получим по кажомуму пользователю отсортированные уникальные рекомендации\n",
    "test_pred_rec=test_pred_proba_df.groupby('user_id')['item_id'].unique().reset_index()\n",
    "test_pred_rec.head()"
   ]
  },
  {
   "cell_type": "code",
   "execution_count": 113,
   "metadata": {},
   "outputs": [
    {
     "data": {
      "text/html": [
       "<div>\n",
       "<style scoped>\n",
       "    .dataframe tbody tr th:only-of-type {\n",
       "        vertical-align: middle;\n",
       "    }\n",
       "\n",
       "    .dataframe tbody tr th {\n",
       "        vertical-align: top;\n",
       "    }\n",
       "\n",
       "    .dataframe thead th {\n",
       "        text-align: right;\n",
       "    }\n",
       "</style>\n",
       "<table border=\"1\" class=\"dataframe\">\n",
       "  <thead>\n",
       "    <tr style=\"text-align: right;\">\n",
       "      <th></th>\n",
       "      <th>user_id</th>\n",
       "      <th>actual_items</th>\n",
       "    </tr>\n",
       "  </thead>\n",
       "  <tbody>\n",
       "    <tr>\n",
       "      <th>0</th>\n",
       "      <td>1</td>\n",
       "      <td>[880007, 883616, 931136, 938004, 940947, 94726...</td>\n",
       "    </tr>\n",
       "    <tr>\n",
       "      <th>1</th>\n",
       "      <td>2</td>\n",
       "      <td>[820165, 820291, 826784, 826835, 829009, 85784...</td>\n",
       "    </tr>\n",
       "  </tbody>\n",
       "</table>\n",
       "</div>"
      ],
      "text/plain": [
       "   user_id                                       actual_items\n",
       "0        1  [880007, 883616, 931136, 938004, 940947, 94726...\n",
       "1        2  [820165, 820291, 826784, 826835, 829009, 85784..."
      ]
     },
     "execution_count": 113,
     "metadata": {},
     "output_type": "execute_result"
    }
   ],
   "source": [
    "test_actual_items=test1_data[['user_id', 'item_id']]\n",
    "test_actual_items=test_actual_items.groupby('user_id')['item_id'].unique().reset_index()\n",
    "test_actual_items.rename(columns={'item_id': 'actual_items'}, inplace=True)\n",
    "test_actual_items.head(2)"
   ]
  },
  {
   "cell_type": "code",
   "execution_count": 114,
   "metadata": {},
   "outputs": [
    {
     "data": {
      "text/html": [
       "<div>\n",
       "<style scoped>\n",
       "    .dataframe tbody tr th:only-of-type {\n",
       "        vertical-align: middle;\n",
       "    }\n",
       "\n",
       "    .dataframe tbody tr th {\n",
       "        vertical-align: top;\n",
       "    }\n",
       "\n",
       "    .dataframe thead th {\n",
       "        text-align: right;\n",
       "    }\n",
       "</style>\n",
       "<table border=\"1\" class=\"dataframe\">\n",
       "  <thead>\n",
       "    <tr style=\"text-align: right;\">\n",
       "      <th></th>\n",
       "      <th>user_id</th>\n",
       "      <th>actual_items</th>\n",
       "      <th>item_id</th>\n",
       "    </tr>\n",
       "  </thead>\n",
       "  <tbody>\n",
       "    <tr>\n",
       "      <th>0</th>\n",
       "      <td>1</td>\n",
       "      <td>[880007, 883616, 931136, 938004, 940947, 94726...</td>\n",
       "      <td>[1082185, 979707, 1004906, 865456, 9297615, .....</td>\n",
       "    </tr>\n",
       "    <tr>\n",
       "      <th>1</th>\n",
       "      <td>2</td>\n",
       "      <td>[820165, 820291, 826784, 826835, 829009, 85784...</td>\n",
       "      <td>[916122, 899624, 1106523, 1103898, 1082185, .....</td>\n",
       "    </tr>\n",
       "  </tbody>\n",
       "</table>\n",
       "</div>"
      ],
      "text/plain": [
       "  user_id                                       actual_items  \\\n",
       "0       1  [880007, 883616, 931136, 938004, 940947, 94726...   \n",
       "1       2  [820165, 820291, 826784, 826835, 829009, 85784...   \n",
       "\n",
       "                                             item_id  \n",
       "0  [1082185, 979707, 1004906, 865456, 9297615, .....  \n",
       "1  [916122, 899624, 1106523, 1103898, 1082185, .....  "
      ]
     },
     "execution_count": 114,
     "metadata": {},
     "output_type": "execute_result"
    }
   ],
   "source": [
    "act_and_rec_df_lvl_3=test_actual_items.merge(test_pred_rec, on='user_id', how='left')\n",
    "act_and_rec_df_lvl_3.head(2)"
   ]
  },
  {
   "cell_type": "code",
   "execution_count": 115,
   "metadata": {},
   "outputs": [
    {
     "data": {
      "text/html": [
       "<div>\n",
       "<style scoped>\n",
       "    .dataframe tbody tr th:only-of-type {\n",
       "        vertical-align: middle;\n",
       "    }\n",
       "\n",
       "    .dataframe tbody tr th {\n",
       "        vertical-align: top;\n",
       "    }\n",
       "\n",
       "    .dataframe thead th {\n",
       "        text-align: right;\n",
       "    }\n",
       "</style>\n",
       "<table border=\"1\" class=\"dataframe\">\n",
       "  <thead>\n",
       "    <tr style=\"text-align: right;\">\n",
       "      <th></th>\n",
       "      <th>user_id</th>\n",
       "      <th>actual_items</th>\n",
       "      <th>item_id</th>\n",
       "      <th>candidates</th>\n",
       "    </tr>\n",
       "  </thead>\n",
       "  <tbody>\n",
       "    <tr>\n",
       "      <th>0</th>\n",
       "      <td>1</td>\n",
       "      <td>[880007, 883616, 931136, 938004, 940947, 94726...</td>\n",
       "      <td>[1082185, 979707, 1004906, 865456, 9297615, .....</td>\n",
       "      <td>[856942, 5577022, 9297615, 1124029, 1087895, 1...</td>\n",
       "    </tr>\n",
       "    <tr>\n",
       "      <th>1</th>\n",
       "      <td>2</td>\n",
       "      <td>[820165, 820291, 826784, 826835, 829009, 85784...</td>\n",
       "      <td>[916122, 899624, 1106523, 1103898, 1082185, .....</td>\n",
       "      <td>[978332, 244960, 7433029, 970481, 9365106, 644...</td>\n",
       "    </tr>\n",
       "  </tbody>\n",
       "</table>\n",
       "</div>"
      ],
      "text/plain": [
       "  user_id                                       actual_items  \\\n",
       "0       1  [880007, 883616, 931136, 938004, 940947, 94726...   \n",
       "1       2  [820165, 820291, 826784, 826835, 829009, 85784...   \n",
       "\n",
       "                                             item_id  \\\n",
       "0  [1082185, 979707, 1004906, 865456, 9297615, .....   \n",
       "1  [916122, 899624, 1106523, 1103898, 1082185, .....   \n",
       "\n",
       "                                          candidates  \n",
       "0  [856942, 5577022, 9297615, 1124029, 1087895, 1...  \n",
       "1  [978332, 244960, 7433029, 970481, 9365106, 644...  "
      ]
     },
     "execution_count": 115,
     "metadata": {},
     "output_type": "execute_result"
    }
   ],
   "source": [
    "act_and_rec_df_lvl_3=act_and_rec_df_lvl_3.merge(test_1st_level_pred, on='user_id', how='left')\n",
    "act_and_rec_df_lvl_3.head(2)"
   ]
  },
  {
   "cell_type": "code",
   "execution_count": 116,
   "metadata": {},
   "outputs": [
    {
     "name": "stdout",
     "output_type": "stream",
     "text": [
      "Качество recall_at_N на тесте после простой модели 0.21265670302823445\n",
      "Качество precision_at_k на тесте после простой модели 0.14376657824933686\n",
      "Качество precision_at_k на тесте после LightGBM 0.25294429708222815\n"
     ]
    }
   ],
   "source": [
    "l_1st_level_recall=[]\n",
    "l_1st_level=[]\n",
    "l_2nd_level=[]\n",
    "for i in range(len(act_and_rec_df_lvl_3['user_id'])):\n",
    "    l_1st_level_recall.append(recall_at_k(act_and_rec_df_lvl_3['candidates'][i], act_and_rec_df_lvl_3['actual_items'][i], k=len(act_and_rec_df_lvl_3['candidates'])))\n",
    "    l_1st_level.append(precision_at_k(act_and_rec_df_lvl_3['candidates'][i], act_and_rec_df_lvl_3['actual_items'][i], k=5))\n",
    "    l_2nd_level.append(precision_at_k(act_and_rec_df_lvl_3['item_id'][i], act_and_rec_df_lvl_3['actual_items'][i], k=5))\n",
    "test_mean_rcall_at_N_1st=np.mean(l_1st_level_recall)\n",
    "test_mean_precision_at_k_1st=np.mean(l_1st_level)\n",
    "test_mean_precision_at_k_2nd=np.mean(l_2nd_level)\n",
    "print(\"Качество recall_at_N на тесте после простой модели\", test_mean_rcall_at_N_1st)\n",
    "print(\"Качество precision_at_k на тесте после простой модели\", test_mean_precision_at_k_1st)\n",
    "print(\"Качество precision_at_k на тесте после LightGBM\", test_mean_precision_at_k_2nd)"
   ]
  },
  {
   "cell_type": "code",
   "execution_count": 117,
   "metadata": {},
   "outputs": [
    {
     "name": "stderr",
     "output_type": "stream",
     "text": [
      "C:\\Users\\mailf\\Anaconda3\\lib\\site-packages\\ipykernel_launcher.py:4: SettingWithCopyWarning: \n",
      "A value is trying to be set on a copy of a slice from a DataFrame.\n",
      "Try using .loc[row_indexer,col_indexer] = value instead\n",
      "\n",
      "See the caveats in the documentation: http://pandas.pydata.org/pandas-docs/stable/indexing.html#indexing-view-versus-copy\n",
      "  after removing the cwd from sys.path.\n"
     ]
    }
   ],
   "source": [
    "all_users = pd.DataFrame(data['user_id'].unique())\n",
    "all_users.columns = ['user_id']\n",
    "all_missing_users=all_users[~all_users['user_id'].isin(train_users)]\n",
    "all_missing_users['candidates'] = all_missing_users['user_id'].apply(lambda x: recommender.get_own_recommendations(x, N=800))\n",
    "all_users_final=all_users.merge(first_level_candidates, on='user_id', how='inner')\n",
    "test_all_users=pd.concat([all_users_final,test_missing_users])\n",
    "test_all_users_pred=test_all_users\n"
   ]
  },
  {
   "cell_type": "code",
   "execution_count": 118,
   "metadata": {},
   "outputs": [],
   "source": [
    "s3 = test_all_users.apply(lambda x: pd.Series(x['candidates']), axis=1).stack().reset_index(level=1, drop=True)\n",
    "s3.name = 'item_id'\n",
    "test_all_users = test_all_users.drop('candidates', axis=1).join(s3)\n",
    "test_all_users['flag'] = 1\n",
    "test_all_users['item_id']=test_all_users['item_id'].astype('int')"
   ]
  },
  {
   "cell_type": "code",
   "execution_count": 119,
   "metadata": {},
   "outputs": [],
   "source": [
    "targets_all_users=prepare_dataset.add_part1_features(data, test_all_users, item_features, user_features,user_average_bill, overall_average_bill, overall_average_item_quantity, user_item_quantity,\n",
    "                      overall_item_frequency,user_item_frequency, user_total_quantity, avr_total_quantity)\n",
    "targets_all_users=prepare_dataset.add_part2_features(targets_all_users, overall_comodity_popularity, user_comodity_popularity)\n",
    "targets_all_users=prepare_dataset.targets_fillblanks(targets_all_users, hh_comp_comodity_popularity)"
   ]
  },
  {
   "cell_type": "code",
   "execution_count": 157,
   "metadata": {},
   "outputs": [
    {
     "data": {
      "text/html": [
       "<div>\n",
       "<style scoped>\n",
       "    .dataframe tbody tr th:only-of-type {\n",
       "        vertical-align: middle;\n",
       "    }\n",
       "\n",
       "    .dataframe tbody tr th {\n",
       "        vertical-align: top;\n",
       "    }\n",
       "\n",
       "    .dataframe thead th {\n",
       "        text-align: right;\n",
       "    }\n",
       "</style>\n",
       "<table border=\"1\" class=\"dataframe\">\n",
       "  <thead>\n",
       "    <tr style=\"text-align: right;\">\n",
       "      <th></th>\n",
       "      <th>user_id</th>\n",
       "      <th>item_id</th>\n",
       "    </tr>\n",
       "  </thead>\n",
       "  <tbody>\n",
       "    <tr>\n",
       "      <th>0</th>\n",
       "      <td>1</td>\n",
       "      <td>[1082185, 979707, 1004906, 865456, 9297615, .....</td>\n",
       "    </tr>\n",
       "    <tr>\n",
       "      <th>1</th>\n",
       "      <td>2</td>\n",
       "      <td>[916122, 899624, 1106523, 1103898, 1082185, .....</td>\n",
       "    </tr>\n",
       "    <tr>\n",
       "      <th>2</th>\n",
       "      <td>3</td>\n",
       "      <td>[1135622, 946839, 1057350, 9676866, 1016093, ....</td>\n",
       "    </tr>\n",
       "    <tr>\n",
       "      <th>3</th>\n",
       "      <td>4</td>\n",
       "      <td>[883932, 990797, 1035676, 831063, 891423, ...,...</td>\n",
       "    </tr>\n",
       "    <tr>\n",
       "      <th>4</th>\n",
       "      <td>5</td>\n",
       "      <td>[1076889, 6463482, 932631, 1036106, 1057350, ....</td>\n",
       "    </tr>\n",
       "  </tbody>\n",
       "</table>\n",
       "</div>"
      ],
      "text/plain": [
       "  user_id                                            item_id\n",
       "0       1  [1082185, 979707, 1004906, 865456, 9297615, .....\n",
       "1       2  [916122, 899624, 1106523, 1103898, 1082185, .....\n",
       "2       3  [1135622, 946839, 1057350, 9676866, 1016093, ....\n",
       "3       4  [883932, 990797, 1035676, 831063, 891423, ...,...\n",
       "4       5  [1076889, 6463482, 932631, 1036106, 1057350, ...."
      ]
     },
     "execution_count": 157,
     "metadata": {},
     "output_type": "execute_result"
    }
   ],
   "source": [
    "X_test_all = targets_all_users.drop('target', axis=1)\n",
    "y_test_all = targets_all_users[['target']]\n",
    "X_test_all[cat_feats] = X_test_all[cat_feats].astype('category')\n",
    "\n",
    "all_pred_proba=lgb.predict_proba(X_test_all)\n",
    "\n",
    "# добавим вероятности покупки в датасет\n",
    "\n",
    "all_pred_proba_df =X_test_all[['user_id', 'item_id']].copy()\n",
    "all_pred_proba_df['proba']=all_pred_proba[:,1]\n",
    "\n",
    "# отсортируем датасет по убыванию вероятности покупки\n",
    "all_pred_proba_df.sort_values('proba', ascending=False, inplace=True)\n",
    "all_pred_proba_df.head()\n",
    "\n",
    "# получим по кажомуму пользователю отсортированные уникальные рекомендации\n",
    "all_pred_rec=all_pred_proba_df.groupby('user_id')['item_id'].unique().reset_index()\n",
    "all_pred_rec.head()"
   ]
  },
  {
   "cell_type": "code",
   "execution_count": 158,
   "metadata": {},
   "outputs": [
    {
     "data": {
      "text/plain": [
       "(2356, 2)"
      ]
     },
     "execution_count": 158,
     "metadata": {},
     "output_type": "execute_result"
    }
   ],
   "source": [
    "all_pred_rec.shape"
   ]
  },
  {
   "cell_type": "code",
   "execution_count": 159,
   "metadata": {},
   "outputs": [
    {
     "name": "stderr",
     "output_type": "stream",
     "text": [
      "C:\\Users\\mailf\\Anaconda3\\lib\\site-packages\\ipykernel_launcher.py:2: SettingWithCopyWarning: \n",
      "A value is trying to be set on a copy of a slice from a DataFrame\n",
      "\n",
      "See the caveats in the documentation: http://pandas.pydata.org/pandas-docs/stable/indexing.html#indexing-view-versus-copy\n",
      "  \n"
     ]
    }
   ],
   "source": [
    "for user in range(len(all_pred_rec['user_id'])):\n",
    "    all_pred_rec['item_id'][user]=np.array(all_pred_rec['item_id'][user][:5])\n",
    "    "
   ]
  },
  {
   "cell_type": "code",
   "execution_count": 160,
   "metadata": {},
   "outputs": [
    {
     "data": {
      "text/html": [
       "<div>\n",
       "<style scoped>\n",
       "    .dataframe tbody tr th:only-of-type {\n",
       "        vertical-align: middle;\n",
       "    }\n",
       "\n",
       "    .dataframe tbody tr th {\n",
       "        vertical-align: top;\n",
       "    }\n",
       "\n",
       "    .dataframe thead th {\n",
       "        text-align: right;\n",
       "    }\n",
       "</style>\n",
       "<table border=\"1\" class=\"dataframe\">\n",
       "  <thead>\n",
       "    <tr style=\"text-align: right;\">\n",
       "      <th></th>\n",
       "      <th>user_id</th>\n",
       "      <th>item_id</th>\n",
       "    </tr>\n",
       "  </thead>\n",
       "  <tbody>\n",
       "    <tr>\n",
       "      <th>0</th>\n",
       "      <td>1</td>\n",
       "      <td>[1082185, 979707, 1004906, 865456, 9297615]</td>\n",
       "    </tr>\n",
       "    <tr>\n",
       "      <th>1</th>\n",
       "      <td>2</td>\n",
       "      <td>[916122, 899624, 1106523, 1103898, 1082185]</td>\n",
       "    </tr>\n",
       "    <tr>\n",
       "      <th>2</th>\n",
       "      <td>3</td>\n",
       "      <td>[1135622, 946839, 1057350, 9676866, 1016093]</td>\n",
       "    </tr>\n",
       "    <tr>\n",
       "      <th>3</th>\n",
       "      <td>4</td>\n",
       "      <td>[883932, 990797, 1035676, 831063, 891423]</td>\n",
       "    </tr>\n",
       "    <tr>\n",
       "      <th>4</th>\n",
       "      <td>5</td>\n",
       "      <td>[1076889, 6463482, 932631, 1036106, 1057350]</td>\n",
       "    </tr>\n",
       "  </tbody>\n",
       "</table>\n",
       "</div>"
      ],
      "text/plain": [
       "  user_id                                       item_id\n",
       "0       1   [1082185, 979707, 1004906, 865456, 9297615]\n",
       "1       2   [916122, 899624, 1106523, 1103898, 1082185]\n",
       "2       3  [1135622, 946839, 1057350, 9676866, 1016093]\n",
       "3       4     [883932, 990797, 1035676, 831063, 891423]\n",
       "4       5  [1076889, 6463482, 932631, 1036106, 1057350]"
      ]
     },
     "execution_count": 160,
     "metadata": {},
     "output_type": "execute_result"
    }
   ],
   "source": [
    "all_pred_rec.head()"
   ]
  },
  {
   "cell_type": "code",
   "execution_count": 163,
   "metadata": {},
   "outputs": [],
   "source": [
    "all_pred_rec.to_csv('RI_all_pred_rec.csv', index=False)"
   ]
  },
  {
   "cell_type": "code",
   "execution_count": null,
   "metadata": {},
   "outputs": [],
   "source": []
  }
 ],
 "metadata": {
  "kernelspec": {
   "display_name": "Python 3",
   "language": "python",
   "name": "python3"
  },
  "language_info": {
   "codemirror_mode": {
    "name": "ipython",
    "version": 3
   },
   "file_extension": ".py",
   "mimetype": "text/x-python",
   "name": "python",
   "nbconvert_exporter": "python",
   "pygments_lexer": "ipython3",
   "version": "3.7.3"
  }
 },
 "nbformat": 4,
 "nbformat_minor": 2
}
